{
 "cells": [
  {
   "cell_type": "code",
   "execution_count": 24,
   "id": "bf51955d",
   "metadata": {},
   "outputs": [],
   "source": [
    "import pandas as pd\n",
    "import numpy as np\n",
    "import matplotlib.pyplot as plt\n",
    "from sklearn.linear_model import  LinearRegression\n",
    "from sklearn.feature_selection import  f_regression\n",
    "from sklearn.tree import  DecisionTreeRegressor\n",
    "from sklearn.metrics import mean_squared_error,mean_absolute_error,r2_score\n",
    "from scipy.stats import ttest_ind\n",
    "from sklearn.model_selection import GridSearchCV\n",
    "from sklearn.preprocessing import normalize, scale, StandardScaler\n",
    "from sklearn.ensemble import  RandomForestRegressor\n",
    "from sklearn.decomposition import PCA\n",
    "from sklearn.cluster import KMeans\n",
    "from xgboost import XGBRegressor,plot_importance\n",
    "import itertools\n",
    "from IPython.core.interactiveshell import InteractiveShell\n",
    "InteractiveShell.ast_node_interactivity = 'all'\n",
    "%matplotlib inline"
   ]
  },
  {
   "cell_type": "markdown",
   "id": "f06d7612",
   "metadata": {},
   "source": [
    "# Contents\n",
    "- EDA\n",
    "- Feature Engineering & Modelling\n",
    "    - Feature Selection Approach 1 - Backward Elimination\n",
    "    - Feature Selection Approach 2 - PCA\n",
    "    - Feature Selection Approach 3 - F Test\n",
    "- Future Improvements"
   ]
  },
  {
   "cell_type": "markdown",
   "id": "f6f67ba0",
   "metadata": {},
   "source": [
    "# EDA"
   ]
  },
  {
   "cell_type": "code",
   "execution_count": 4,
   "id": "b8a550ca",
   "metadata": {},
   "outputs": [
    {
     "data": {
      "text/plain": [
       "(10000, 1000)"
      ]
     },
     "execution_count": 4,
     "metadata": {},
     "output_type": "execute_result"
    },
    {
     "data": {
      "text/html": [
       "<div>\n",
       "<style scoped>\n",
       "    .dataframe tbody tr th:only-of-type {\n",
       "        vertical-align: middle;\n",
       "    }\n",
       "\n",
       "    .dataframe tbody tr th {\n",
       "        vertical-align: top;\n",
       "    }\n",
       "\n",
       "    .dataframe thead th {\n",
       "        text-align: right;\n",
       "    }\n",
       "</style>\n",
       "<table border=\"1\" class=\"dataframe\">\n",
       "  <thead>\n",
       "    <tr style=\"text-align: right;\">\n",
       "      <th></th>\n",
       "      <th>0</th>\n",
       "      <th>1</th>\n",
       "      <th>2</th>\n",
       "      <th>3</th>\n",
       "      <th>4</th>\n",
       "      <th>5</th>\n",
       "      <th>6</th>\n",
       "      <th>7</th>\n",
       "      <th>8</th>\n",
       "      <th>9</th>\n",
       "      <th>...</th>\n",
       "      <th>990</th>\n",
       "      <th>991</th>\n",
       "      <th>992</th>\n",
       "      <th>993</th>\n",
       "      <th>994</th>\n",
       "      <th>995</th>\n",
       "      <th>996</th>\n",
       "      <th>997</th>\n",
       "      <th>998</th>\n",
       "      <th>999</th>\n",
       "    </tr>\n",
       "  </thead>\n",
       "  <tbody>\n",
       "    <tr>\n",
       "      <th>1990-01-01</th>\n",
       "      <td>0.943503</td>\n",
       "      <td>2.285943</td>\n",
       "      <td>-0.676534</td>\n",
       "      <td>-1.073370</td>\n",
       "      <td>0.222805</td>\n",
       "      <td>0.549741</td>\n",
       "      <td>-0.593814</td>\n",
       "      <td>2.178840</td>\n",
       "      <td>0.352440</td>\n",
       "      <td>0.201713</td>\n",
       "      <td>...</td>\n",
       "      <td>0.096125</td>\n",
       "      <td>0.953935</td>\n",
       "      <td>0.301930</td>\n",
       "      <td>-0.362019</td>\n",
       "      <td>-1.161094</td>\n",
       "      <td>0.653639</td>\n",
       "      <td>1.052906</td>\n",
       "      <td>0.412227</td>\n",
       "      <td>-0.554256</td>\n",
       "      <td>1.024348</td>\n",
       "    </tr>\n",
       "    <tr>\n",
       "      <th>1990-01-02</th>\n",
       "      <td>0.757759</td>\n",
       "      <td>0.420328</td>\n",
       "      <td>-0.171919</td>\n",
       "      <td>-0.256779</td>\n",
       "      <td>-0.026867</td>\n",
       "      <td>0.469453</td>\n",
       "      <td>-2.414748</td>\n",
       "      <td>-1.230617</td>\n",
       "      <td>-1.632244</td>\n",
       "      <td>-1.584294</td>\n",
       "      <td>...</td>\n",
       "      <td>1.929657</td>\n",
       "      <td>-0.209801</td>\n",
       "      <td>-0.152551</td>\n",
       "      <td>-0.696473</td>\n",
       "      <td>1.722749</td>\n",
       "      <td>0.661907</td>\n",
       "      <td>-1.248569</td>\n",
       "      <td>1.736036</td>\n",
       "      <td>0.291525</td>\n",
       "      <td>-0.461472</td>\n",
       "    </tr>\n",
       "    <tr>\n",
       "      <th>1990-01-03</th>\n",
       "      <td>1.321828</td>\n",
       "      <td>0.338798</td>\n",
       "      <td>-0.056767</td>\n",
       "      <td>0.831892</td>\n",
       "      <td>-0.237888</td>\n",
       "      <td>-0.280212</td>\n",
       "      <td>-0.863612</td>\n",
       "      <td>-0.339115</td>\n",
       "      <td>-0.197328</td>\n",
       "      <td>0.885977</td>\n",
       "      <td>...</td>\n",
       "      <td>-0.920220</td>\n",
       "      <td>-0.984264</td>\n",
       "      <td>0.561081</td>\n",
       "      <td>2.038433</td>\n",
       "      <td>0.073335</td>\n",
       "      <td>-0.187716</td>\n",
       "      <td>-0.597649</td>\n",
       "      <td>-0.091542</td>\n",
       "      <td>1.148625</td>\n",
       "      <td>0.413747</td>\n",
       "    </tr>\n",
       "    <tr>\n",
       "      <th>1990-01-04</th>\n",
       "      <td>0.791808</td>\n",
       "      <td>-1.413861</td>\n",
       "      <td>0.796525</td>\n",
       "      <td>-1.579936</td>\n",
       "      <td>1.093092</td>\n",
       "      <td>0.177056</td>\n",
       "      <td>-0.221590</td>\n",
       "      <td>0.454206</td>\n",
       "      <td>-0.883866</td>\n",
       "      <td>0.225825</td>\n",
       "      <td>...</td>\n",
       "      <td>-1.637996</td>\n",
       "      <td>-0.037544</td>\n",
       "      <td>0.299472</td>\n",
       "      <td>-1.459668</td>\n",
       "      <td>-1.006607</td>\n",
       "      <td>-1.116544</td>\n",
       "      <td>0.165441</td>\n",
       "      <td>0.946803</td>\n",
       "      <td>-0.738654</td>\n",
       "      <td>-0.376507</td>\n",
       "    </tr>\n",
       "    <tr>\n",
       "      <th>1990-01-05</th>\n",
       "      <td>0.703500</td>\n",
       "      <td>-1.096535</td>\n",
       "      <td>0.303689</td>\n",
       "      <td>0.841819</td>\n",
       "      <td>-1.199948</td>\n",
       "      <td>-0.336136</td>\n",
       "      <td>1.417628</td>\n",
       "      <td>0.440125</td>\n",
       "      <td>-1.757652</td>\n",
       "      <td>2.210187</td>\n",
       "      <td>...</td>\n",
       "      <td>-1.900305</td>\n",
       "      <td>-0.473095</td>\n",
       "      <td>-0.084830</td>\n",
       "      <td>-0.108897</td>\n",
       "      <td>-0.971338</td>\n",
       "      <td>-1.226582</td>\n",
       "      <td>1.515971</td>\n",
       "      <td>0.778013</td>\n",
       "      <td>1.755896</td>\n",
       "      <td>2.025973</td>\n",
       "    </tr>\n",
       "  </tbody>\n",
       "</table>\n",
       "<p>5 rows × 1000 columns</p>\n",
       "</div>"
      ],
      "text/plain": [
       "                   0         1         2         3         4         5  \\\n",
       "1990-01-01  0.943503  2.285943 -0.676534 -1.073370  0.222805  0.549741   \n",
       "1990-01-02  0.757759  0.420328 -0.171919 -0.256779 -0.026867  0.469453   \n",
       "1990-01-03  1.321828  0.338798 -0.056767  0.831892 -0.237888 -0.280212   \n",
       "1990-01-04  0.791808 -1.413861  0.796525 -1.579936  1.093092  0.177056   \n",
       "1990-01-05  0.703500 -1.096535  0.303689  0.841819 -1.199948 -0.336136   \n",
       "\n",
       "                   6         7         8         9  ...       990       991  \\\n",
       "1990-01-01 -0.593814  2.178840  0.352440  0.201713  ...  0.096125  0.953935   \n",
       "1990-01-02 -2.414748 -1.230617 -1.632244 -1.584294  ...  1.929657 -0.209801   \n",
       "1990-01-03 -0.863612 -0.339115 -0.197328  0.885977  ... -0.920220 -0.984264   \n",
       "1990-01-04 -0.221590  0.454206 -0.883866  0.225825  ... -1.637996 -0.037544   \n",
       "1990-01-05  1.417628  0.440125 -1.757652  2.210187  ... -1.900305 -0.473095   \n",
       "\n",
       "                 992       993       994       995       996       997  \\\n",
       "1990-01-01  0.301930 -0.362019 -1.161094  0.653639  1.052906  0.412227   \n",
       "1990-01-02 -0.152551 -0.696473  1.722749  0.661907 -1.248569  1.736036   \n",
       "1990-01-03  0.561081  2.038433  0.073335 -0.187716 -0.597649 -0.091542   \n",
       "1990-01-04  0.299472 -1.459668 -1.006607 -1.116544  0.165441  0.946803   \n",
       "1990-01-05 -0.084830 -0.108897 -0.971338 -1.226582  1.515971  0.778013   \n",
       "\n",
       "                 998       999  \n",
       "1990-01-01 -0.554256  1.024348  \n",
       "1990-01-02  0.291525 -0.461472  \n",
       "1990-01-03  1.148625  0.413747  \n",
       "1990-01-04 -0.738654 -0.376507  \n",
       "1990-01-05  1.755896  2.025973  \n",
       "\n",
       "[5 rows x 1000 columns]"
      ]
     },
     "execution_count": 4,
     "metadata": {},
     "output_type": "execute_result"
    },
    {
     "data": {
      "text/plain": [
       "(10000, 1)"
      ]
     },
     "execution_count": 4,
     "metadata": {},
     "output_type": "execute_result"
    },
    {
     "data": {
      "text/html": [
       "<div>\n",
       "<style scoped>\n",
       "    .dataframe tbody tr th:only-of-type {\n",
       "        vertical-align: middle;\n",
       "    }\n",
       "\n",
       "    .dataframe tbody tr th {\n",
       "        vertical-align: top;\n",
       "    }\n",
       "\n",
       "    .dataframe thead th {\n",
       "        text-align: right;\n",
       "    }\n",
       "</style>\n",
       "<table border=\"1\" class=\"dataframe\">\n",
       "  <thead>\n",
       "    <tr style=\"text-align: right;\">\n",
       "      <th></th>\n",
       "      <th>target</th>\n",
       "    </tr>\n",
       "  </thead>\n",
       "  <tbody>\n",
       "    <tr>\n",
       "      <th>1990-01-01</th>\n",
       "      <td>0.187237</td>\n",
       "    </tr>\n",
       "    <tr>\n",
       "      <th>1990-01-02</th>\n",
       "      <td>0.583561</td>\n",
       "    </tr>\n",
       "    <tr>\n",
       "      <th>1990-01-03</th>\n",
       "      <td>0.584215</td>\n",
       "    </tr>\n",
       "    <tr>\n",
       "      <th>1990-01-04</th>\n",
       "      <td>-0.014664</td>\n",
       "    </tr>\n",
       "    <tr>\n",
       "      <th>1990-01-05</th>\n",
       "      <td>-0.896113</td>\n",
       "    </tr>\n",
       "  </tbody>\n",
       "</table>\n",
       "</div>"
      ],
      "text/plain": [
       "              target\n",
       "1990-01-01  0.187237\n",
       "1990-01-02  0.583561\n",
       "1990-01-03  0.584215\n",
       "1990-01-04 -0.014664\n",
       "1990-01-05 -0.896113"
      ]
     },
     "execution_count": 4,
     "metadata": {},
     "output_type": "execute_result"
    }
   ],
   "source": [
    "features =  pd.read_parquet('features.parquet')\n",
    "target =  pd.read_parquet('target.parquet')\n",
    "features.shape\n",
    "features.head()\n",
    "target.shape\n",
    "target.head()"
   ]
  },
  {
   "cell_type": "code",
   "execution_count": 8,
   "id": "575f8e7c",
   "metadata": {},
   "outputs": [
    {
     "data": {
      "text/html": [
       "<div>\n",
       "<style scoped>\n",
       "    .dataframe tbody tr th:only-of-type {\n",
       "        vertical-align: middle;\n",
       "    }\n",
       "\n",
       "    .dataframe tbody tr th {\n",
       "        vertical-align: top;\n",
       "    }\n",
       "\n",
       "    .dataframe thead th {\n",
       "        text-align: right;\n",
       "    }\n",
       "</style>\n",
       "<table border=\"1\" class=\"dataframe\">\n",
       "  <thead>\n",
       "    <tr style=\"text-align: right;\">\n",
       "      <th></th>\n",
       "      <th>target</th>\n",
       "    </tr>\n",
       "  </thead>\n",
       "  <tbody>\n",
       "  </tbody>\n",
       "</table>\n",
       "</div>"
      ],
      "text/plain": [
       "Empty DataFrame\n",
       "Columns: [target]\n",
       "Index: []"
      ]
     },
     "execution_count": 8,
     "metadata": {},
     "output_type": "execute_result"
    },
    {
     "data": {
      "text/html": [
       "<div>\n",
       "<style scoped>\n",
       "    .dataframe tbody tr th:only-of-type {\n",
       "        vertical-align: middle;\n",
       "    }\n",
       "\n",
       "    .dataframe tbody tr th {\n",
       "        vertical-align: top;\n",
       "    }\n",
       "\n",
       "    .dataframe thead th {\n",
       "        text-align: right;\n",
       "    }\n",
       "</style>\n",
       "<table border=\"1\" class=\"dataframe\">\n",
       "  <thead>\n",
       "    <tr style=\"text-align: right;\">\n",
       "      <th></th>\n",
       "      <th>0</th>\n",
       "      <th>1</th>\n",
       "      <th>2</th>\n",
       "      <th>3</th>\n",
       "      <th>4</th>\n",
       "      <th>5</th>\n",
       "      <th>6</th>\n",
       "      <th>7</th>\n",
       "      <th>8</th>\n",
       "      <th>9</th>\n",
       "      <th>...</th>\n",
       "      <th>990</th>\n",
       "      <th>991</th>\n",
       "      <th>992</th>\n",
       "      <th>993</th>\n",
       "      <th>994</th>\n",
       "      <th>995</th>\n",
       "      <th>996</th>\n",
       "      <th>997</th>\n",
       "      <th>998</th>\n",
       "      <th>999</th>\n",
       "    </tr>\n",
       "  </thead>\n",
       "  <tbody>\n",
       "  </tbody>\n",
       "</table>\n",
       "<p>0 rows × 1000 columns</p>\n",
       "</div>"
      ],
      "text/plain": [
       "Empty DataFrame\n",
       "Columns: [0, 1, 2, 3, 4, 5, 6, 7, 8, 9, 10, 11, 12, 13, 14, 15, 16, 17, 18, 19, 20, 21, 22, 23, 24, 25, 26, 27, 28, 29, 30, 31, 32, 33, 34, 35, 36, 37, 38, 39, 40, 41, 42, 43, 44, 45, 46, 47, 48, 49, 50, 51, 52, 53, 54, 55, 56, 57, 58, 59, 60, 61, 62, 63, 64, 65, 66, 67, 68, 69, 70, 71, 72, 73, 74, 75, 76, 77, 78, 79, 80, 81, 82, 83, 84, 85, 86, 87, 88, 89, 90, 91, 92, 93, 94, 95, 96, 97, 98, 99, ...]\n",
       "Index: []\n",
       "\n",
       "[0 rows x 1000 columns]"
      ]
     },
     "execution_count": 8,
     "metadata": {},
     "output_type": "execute_result"
    }
   ],
   "source": [
    "# check index alignment\n",
    "target.index = pd.to_datetime(target.index)\n",
    "features.index = pd.to_datetime(features.index)\n",
    "target.loc[~target.index.isin(features.index)]\n",
    "features.loc[~features.index.isin(target.index)]\n"
   ]
  },
  {
   "cell_type": "markdown",
   "id": "1b97d428",
   "metadata": {},
   "source": [
    "Featues and target index are well aligned"
   ]
  },
  {
   "cell_type": "code",
   "execution_count": 16,
   "id": "4020022f",
   "metadata": {},
   "outputs": [
    {
     "data": {
      "text/html": [
       "<div>\n",
       "<style scoped>\n",
       "    .dataframe tbody tr th:only-of-type {\n",
       "        vertical-align: middle;\n",
       "    }\n",
       "\n",
       "    .dataframe tbody tr th {\n",
       "        vertical-align: top;\n",
       "    }\n",
       "\n",
       "    .dataframe thead th {\n",
       "        text-align: right;\n",
       "    }\n",
       "</style>\n",
       "<table border=\"1\" class=\"dataframe\">\n",
       "  <thead>\n",
       "    <tr style=\"text-align: right;\">\n",
       "      <th></th>\n",
       "      <th>0</th>\n",
       "      <th>1</th>\n",
       "      <th>2</th>\n",
       "      <th>3</th>\n",
       "      <th>4</th>\n",
       "      <th>5</th>\n",
       "      <th>6</th>\n",
       "      <th>7</th>\n",
       "      <th>8</th>\n",
       "      <th>9</th>\n",
       "      <th>...</th>\n",
       "      <th>990</th>\n",
       "      <th>991</th>\n",
       "      <th>992</th>\n",
       "      <th>993</th>\n",
       "      <th>994</th>\n",
       "      <th>995</th>\n",
       "      <th>996</th>\n",
       "      <th>997</th>\n",
       "      <th>998</th>\n",
       "      <th>999</th>\n",
       "    </tr>\n",
       "  </thead>\n",
       "  <tbody>\n",
       "    <tr>\n",
       "      <th>count</th>\n",
       "      <td>10000.000000</td>\n",
       "      <td>10000.000000</td>\n",
       "      <td>10000.000000</td>\n",
       "      <td>10000.000000</td>\n",
       "      <td>10000.000000</td>\n",
       "      <td>10000.000000</td>\n",
       "      <td>10000.000000</td>\n",
       "      <td>10000.000000</td>\n",
       "      <td>10000.000000</td>\n",
       "      <td>10000.000000</td>\n",
       "      <td>...</td>\n",
       "      <td>10000.000000</td>\n",
       "      <td>10000.000000</td>\n",
       "      <td>10000.000000</td>\n",
       "      <td>10000.000000</td>\n",
       "      <td>10000.000000</td>\n",
       "      <td>10000.000000</td>\n",
       "      <td>10000.000000</td>\n",
       "      <td>10000.000000</td>\n",
       "      <td>10000.000000</td>\n",
       "      <td>10000.000000</td>\n",
       "    </tr>\n",
       "    <tr>\n",
       "      <th>mean</th>\n",
       "      <td>-0.008572</td>\n",
       "      <td>-0.004498</td>\n",
       "      <td>-0.022229</td>\n",
       "      <td>0.002005</td>\n",
       "      <td>-0.016317</td>\n",
       "      <td>-0.005396</td>\n",
       "      <td>-0.003207</td>\n",
       "      <td>0.009475</td>\n",
       "      <td>-0.002046</td>\n",
       "      <td>0.006495</td>\n",
       "      <td>...</td>\n",
       "      <td>-0.017317</td>\n",
       "      <td>0.010534</td>\n",
       "      <td>-0.000375</td>\n",
       "      <td>0.002697</td>\n",
       "      <td>0.010356</td>\n",
       "      <td>0.001716</td>\n",
       "      <td>-0.007880</td>\n",
       "      <td>0.020026</td>\n",
       "      <td>-0.002291</td>\n",
       "      <td>0.008746</td>\n",
       "    </tr>\n",
       "    <tr>\n",
       "      <th>std</th>\n",
       "      <td>1.005154</td>\n",
       "      <td>1.008740</td>\n",
       "      <td>0.999850</td>\n",
       "      <td>0.996446</td>\n",
       "      <td>1.007743</td>\n",
       "      <td>0.995324</td>\n",
       "      <td>1.006088</td>\n",
       "      <td>1.005719</td>\n",
       "      <td>0.998800</td>\n",
       "      <td>1.004791</td>\n",
       "      <td>...</td>\n",
       "      <td>1.008889</td>\n",
       "      <td>1.009862</td>\n",
       "      <td>0.995585</td>\n",
       "      <td>0.992234</td>\n",
       "      <td>1.002221</td>\n",
       "      <td>1.000776</td>\n",
       "      <td>1.011804</td>\n",
       "      <td>0.985852</td>\n",
       "      <td>0.990585</td>\n",
       "      <td>1.006371</td>\n",
       "    </tr>\n",
       "    <tr>\n",
       "      <th>min</th>\n",
       "      <td>-4.128442</td>\n",
       "      <td>-3.387357</td>\n",
       "      <td>-3.947738</td>\n",
       "      <td>-4.275218</td>\n",
       "      <td>-3.750825</td>\n",
       "      <td>-4.005987</td>\n",
       "      <td>-3.500360</td>\n",
       "      <td>-4.202960</td>\n",
       "      <td>-3.943426</td>\n",
       "      <td>-3.929699</td>\n",
       "      <td>...</td>\n",
       "      <td>-3.856198</td>\n",
       "      <td>-3.685112</td>\n",
       "      <td>-4.002535</td>\n",
       "      <td>-3.794738</td>\n",
       "      <td>-4.013891</td>\n",
       "      <td>-4.665611</td>\n",
       "      <td>-4.019283</td>\n",
       "      <td>-3.437754</td>\n",
       "      <td>-3.650274</td>\n",
       "      <td>-3.971332</td>\n",
       "    </tr>\n",
       "    <tr>\n",
       "      <th>25%</th>\n",
       "      <td>-0.701132</td>\n",
       "      <td>-0.690195</td>\n",
       "      <td>-0.717003</td>\n",
       "      <td>-0.663236</td>\n",
       "      <td>-0.695181</td>\n",
       "      <td>-0.673877</td>\n",
       "      <td>-0.681253</td>\n",
       "      <td>-0.665722</td>\n",
       "      <td>-0.674646</td>\n",
       "      <td>-0.661539</td>\n",
       "      <td>...</td>\n",
       "      <td>-0.703154</td>\n",
       "      <td>-0.673324</td>\n",
       "      <td>-0.669939</td>\n",
       "      <td>-0.648356</td>\n",
       "      <td>-0.680834</td>\n",
       "      <td>-0.661215</td>\n",
       "      <td>-0.682082</td>\n",
       "      <td>-0.653697</td>\n",
       "      <td>-0.660055</td>\n",
       "      <td>-0.674628</td>\n",
       "    </tr>\n",
       "    <tr>\n",
       "      <th>50%</th>\n",
       "      <td>-0.010331</td>\n",
       "      <td>0.001522</td>\n",
       "      <td>-0.007906</td>\n",
       "      <td>-0.008002</td>\n",
       "      <td>-0.010563</td>\n",
       "      <td>-0.009045</td>\n",
       "      <td>-0.011091</td>\n",
       "      <td>0.021238</td>\n",
       "      <td>0.005896</td>\n",
       "      <td>0.004434</td>\n",
       "      <td>...</td>\n",
       "      <td>-0.017224</td>\n",
       "      <td>0.001070</td>\n",
       "      <td>0.008198</td>\n",
       "      <td>-0.001022</td>\n",
       "      <td>0.012962</td>\n",
       "      <td>-0.005112</td>\n",
       "      <td>-0.013811</td>\n",
       "      <td>0.008793</td>\n",
       "      <td>-0.005615</td>\n",
       "      <td>0.016268</td>\n",
       "    </tr>\n",
       "    <tr>\n",
       "      <th>75%</th>\n",
       "      <td>0.678265</td>\n",
       "      <td>0.685403</td>\n",
       "      <td>0.653787</td>\n",
       "      <td>0.670506</td>\n",
       "      <td>0.667773</td>\n",
       "      <td>0.659895</td>\n",
       "      <td>0.692270</td>\n",
       "      <td>0.687297</td>\n",
       "      <td>0.668090</td>\n",
       "      <td>0.670568</td>\n",
       "      <td>...</td>\n",
       "      <td>0.663500</td>\n",
       "      <td>0.695344</td>\n",
       "      <td>0.653991</td>\n",
       "      <td>0.666124</td>\n",
       "      <td>0.679689</td>\n",
       "      <td>0.680443</td>\n",
       "      <td>0.671083</td>\n",
       "      <td>0.677428</td>\n",
       "      <td>0.661501</td>\n",
       "      <td>0.676353</td>\n",
       "    </tr>\n",
       "    <tr>\n",
       "      <th>max</th>\n",
       "      <td>4.965782</td>\n",
       "      <td>3.379153</td>\n",
       "      <td>3.525343</td>\n",
       "      <td>4.831867</td>\n",
       "      <td>4.060638</td>\n",
       "      <td>3.649687</td>\n",
       "      <td>3.781824</td>\n",
       "      <td>4.060110</td>\n",
       "      <td>3.920276</td>\n",
       "      <td>4.175207</td>\n",
       "      <td>...</td>\n",
       "      <td>3.465817</td>\n",
       "      <td>4.290298</td>\n",
       "      <td>3.966707</td>\n",
       "      <td>3.691513</td>\n",
       "      <td>4.102348</td>\n",
       "      <td>3.540362</td>\n",
       "      <td>3.685299</td>\n",
       "      <td>3.970515</td>\n",
       "      <td>3.956392</td>\n",
       "      <td>3.886037</td>\n",
       "    </tr>\n",
       "  </tbody>\n",
       "</table>\n",
       "<p>8 rows × 1000 columns</p>\n",
       "</div>"
      ],
      "text/plain": [
       "                  0             1             2             3             4  \\\n",
       "count  10000.000000  10000.000000  10000.000000  10000.000000  10000.000000   \n",
       "mean      -0.008572     -0.004498     -0.022229      0.002005     -0.016317   \n",
       "std        1.005154      1.008740      0.999850      0.996446      1.007743   \n",
       "min       -4.128442     -3.387357     -3.947738     -4.275218     -3.750825   \n",
       "25%       -0.701132     -0.690195     -0.717003     -0.663236     -0.695181   \n",
       "50%       -0.010331      0.001522     -0.007906     -0.008002     -0.010563   \n",
       "75%        0.678265      0.685403      0.653787      0.670506      0.667773   \n",
       "max        4.965782      3.379153      3.525343      4.831867      4.060638   \n",
       "\n",
       "                  5             6             7             8             9  \\\n",
       "count  10000.000000  10000.000000  10000.000000  10000.000000  10000.000000   \n",
       "mean      -0.005396     -0.003207      0.009475     -0.002046      0.006495   \n",
       "std        0.995324      1.006088      1.005719      0.998800      1.004791   \n",
       "min       -4.005987     -3.500360     -4.202960     -3.943426     -3.929699   \n",
       "25%       -0.673877     -0.681253     -0.665722     -0.674646     -0.661539   \n",
       "50%       -0.009045     -0.011091      0.021238      0.005896      0.004434   \n",
       "75%        0.659895      0.692270      0.687297      0.668090      0.670568   \n",
       "max        3.649687      3.781824      4.060110      3.920276      4.175207   \n",
       "\n",
       "       ...           990           991           992           993  \\\n",
       "count  ...  10000.000000  10000.000000  10000.000000  10000.000000   \n",
       "mean   ...     -0.017317      0.010534     -0.000375      0.002697   \n",
       "std    ...      1.008889      1.009862      0.995585      0.992234   \n",
       "min    ...     -3.856198     -3.685112     -4.002535     -3.794738   \n",
       "25%    ...     -0.703154     -0.673324     -0.669939     -0.648356   \n",
       "50%    ...     -0.017224      0.001070      0.008198     -0.001022   \n",
       "75%    ...      0.663500      0.695344      0.653991      0.666124   \n",
       "max    ...      3.465817      4.290298      3.966707      3.691513   \n",
       "\n",
       "                994           995           996           997           998  \\\n",
       "count  10000.000000  10000.000000  10000.000000  10000.000000  10000.000000   \n",
       "mean       0.010356      0.001716     -0.007880      0.020026     -0.002291   \n",
       "std        1.002221      1.000776      1.011804      0.985852      0.990585   \n",
       "min       -4.013891     -4.665611     -4.019283     -3.437754     -3.650274   \n",
       "25%       -0.680834     -0.661215     -0.682082     -0.653697     -0.660055   \n",
       "50%        0.012962     -0.005112     -0.013811      0.008793     -0.005615   \n",
       "75%        0.679689      0.680443      0.671083      0.677428      0.661501   \n",
       "max        4.102348      3.540362      3.685299      3.970515      3.956392   \n",
       "\n",
       "                999  \n",
       "count  10000.000000  \n",
       "mean       0.008746  \n",
       "std        1.006371  \n",
       "min       -3.971332  \n",
       "25%       -0.674628  \n",
       "50%        0.016268  \n",
       "75%        0.676353  \n",
       "max        3.886037  \n",
       "\n",
       "[8 rows x 1000 columns]"
      ]
     },
     "execution_count": 16,
     "metadata": {},
     "output_type": "execute_result"
    }
   ],
   "source": [
    "#check features' distribution\n",
    "features_stats = features.describe()\n",
    "features_stats"
   ]
  },
  {
   "cell_type": "code",
   "execution_count": 20,
   "id": "bf4efad2",
   "metadata": {},
   "outputs": [
    {
     "data": {
      "text/plain": [
       "0.9744781745140917"
      ]
     },
     "execution_count": 20,
     "metadata": {},
     "output_type": "execute_result"
    },
    {
     "data": {
      "text/plain": [
       "1.4244663877067634"
      ]
     },
     "execution_count": 20,
     "metadata": {},
     "output_type": "execute_result"
    }
   ],
   "source": [
    "#check features's distribution of standard deviation -> relatively centered around 1\n",
    "features_stats.loc['std'].min()\n",
    "features_stats.loc['std'].max()\n"
   ]
  },
  {
   "cell_type": "code",
   "execution_count": 21,
   "id": "2b2dc642",
   "metadata": {},
   "outputs": [
    {
     "data": {
      "text/plain": [
       "-0.03329011564620238"
      ]
     },
     "execution_count": 21,
     "metadata": {},
     "output_type": "execute_result"
    },
    {
     "data": {
      "text/plain": [
       "0.040604694372431416"
      ]
     },
     "execution_count": 21,
     "metadata": {},
     "output_type": "execute_result"
    }
   ],
   "source": [
    "#check features's distribution of mean -> relatively centered around 0\n",
    "features_stats.loc['mean'].min()\n",
    "features_stats.loc['mean'].max()\n"
   ]
  },
  {
   "cell_type": "code",
   "execution_count": 22,
   "id": "4e75d13e",
   "metadata": {},
   "outputs": [
    {
     "data": {
      "text/plain": [
       "-6.8545829937010785"
      ]
     },
     "execution_count": 22,
     "metadata": {},
     "output_type": "execute_result"
    },
    {
     "data": {
      "text/plain": [
       "-3.1818716352192684"
      ]
     },
     "execution_count": 22,
     "metadata": {},
     "output_type": "execute_result"
    }
   ],
   "source": [
    "#check features's distribution of min and max -> relatively within similiar range\n",
    "features_stats.loc['min'].min()\n",
    "features_stats.loc['min'].max()"
   ]
  },
  {
   "cell_type": "code",
   "execution_count": 23,
   "id": "fd0d3265",
   "metadata": {},
   "outputs": [
    {
     "data": {
      "text/plain": [
       "3.1806385819329415"
      ]
     },
     "execution_count": 23,
     "metadata": {},
     "output_type": "execute_result"
    },
    {
     "data": {
      "text/plain": [
       "5.224528213919469"
      ]
     },
     "execution_count": 23,
     "metadata": {},
     "output_type": "execute_result"
    }
   ],
   "source": [
    "features_stats.loc['max'].min()\n",
    "features_stats.loc['max'].max()"
   ]
  },
  {
   "cell_type": "code",
   "execution_count": 15,
   "id": "7e4ed614",
   "metadata": {},
   "outputs": [
    {
     "data": {
      "text/plain": [
       "array([0], dtype=int64)"
      ]
     },
     "execution_count": 15,
     "metadata": {},
     "output_type": "execute_result"
    }
   ],
   "source": [
    "#check nulls -> no nulls from features\n",
    "features.isnull().sum().unique()\n"
   ]
  },
  {
   "cell_type": "code",
   "execution_count": 42,
   "id": "23090642",
   "metadata": {},
   "outputs": [
    {
     "data": {
      "text/plain": [
       "<AxesSubplot:>"
      ]
     },
     "execution_count": 42,
     "metadata": {},
     "output_type": "execute_result"
    },
    {
     "data": {
      "text/plain": [
       "<AxesSubplot:>"
      ]
     },
     "execution_count": 42,
     "metadata": {},
     "output_type": "execute_result"
    },
    {
     "data": {
      "image/png": "[encoded data removed]",
      "text/plain": [
       "<Figure size 432x288 with 1 Axes>"
      ]
     },
     "metadata": {
      "needs_background": "light"
     },
     "output_type": "display_data"
    },
    {
     "data": {
      "image/png": "[encoded data removed]",
      "text/plain": [
       "<Figure size 432x288 with 1 Axes>"
      ]
     },
     "metadata": {
      "needs_background": "light"
     },
     "output_type": "display_data"
    }
   ],
   "source": [
    "# visualizting time series plot\n",
    "target.plot()\n",
    "target.cumsum().plot()"
   ]
  },
  {
   "cell_type": "markdown",
   "id": "e341874b",
   "metadata": {},
   "source": [
    "# Feature Engineering & Modelling"
   ]
  },
  {
   "cell_type": "markdown",
   "id": "996b6150",
   "metadata": {},
   "source": [
    "Ideally, feature enginneering should be based on some business intuition or prior knowledge. However, given that I do not know the labels of each feature in the dataset, I applied pure data science and statistical approach to extract features and reduce dimension. \n",
    "\n",
    "I applied 3 approaches for feature selection and dimensional reduction - backward elimination, PCA, and F test.\n",
    "\n",
    "For modelling evaluation, I looked at both parametrical metrics and path metrics. For parametrical metrics, I used MAE as the mian evaluation metric, with MSE and R squared as reference points. For path metrics, I compared the path between target value and predicted value to assess the predictive power from the predicted value. Models are hyperparameter-tuned to find the best model parameters.\n",
    "\n",
    "The results shows features selcted from backward elimination worked best with decision tree models, with MAE of 0.79. By comparing the time series cumsum charts, the predicted value is relatively close to the target value, with a trough around 2013, and improvements afterwards.\n",
    "\n",
    "By comparing correlation by shifting predicted value ahead to understand how many days is predicted value ahead of the target value, we can see the correlation is largest when predicted value is shifted ahead by 3 days, indicating the predicitve power of 3 days.\n",
    "\n",
    "Features selected from backward elimination are in total 200 features. To name a few column identifiers, it incldues columns- '979', '46', '202', '433', '665', '7', '669', '279', '310', '208', '12', '63', '360', '345', '459', '575', '606', '8', '280', '759', etc."
   ]
  },
  {
   "cell_type": "markdown",
   "id": "9584cfb1",
   "metadata": {},
   "source": [
    "## Feature Selection Approach 1 - Backward Elimination"
   ]
  },
  {
   "cell_type": "code",
   "execution_count": 64,
   "id": "1c6ef500",
   "metadata": {},
   "outputs": [
    {
     "data": {
      "text/plain": [
       "(7000, 1000)"
      ]
     },
     "execution_count": 64,
     "metadata": {},
     "output_type": "execute_result"
    },
    {
     "data": {
      "text/html": [
       "<div>\n",
       "<style scoped>\n",
       "    .dataframe tbody tr th:only-of-type {\n",
       "        vertical-align: middle;\n",
       "    }\n",
       "\n",
       "    .dataframe tbody tr th {\n",
       "        vertical-align: top;\n",
       "    }\n",
       "\n",
       "    .dataframe thead th {\n",
       "        text-align: right;\n",
       "    }\n",
       "</style>\n",
       "<table border=\"1\" class=\"dataframe\">\n",
       "  <thead>\n",
       "    <tr style=\"text-align: right;\">\n",
       "      <th></th>\n",
       "      <th>0</th>\n",
       "      <th>1</th>\n",
       "      <th>2</th>\n",
       "      <th>3</th>\n",
       "      <th>4</th>\n",
       "      <th>5</th>\n",
       "      <th>6</th>\n",
       "      <th>7</th>\n",
       "      <th>8</th>\n",
       "      <th>9</th>\n",
       "      <th>...</th>\n",
       "      <th>990</th>\n",
       "      <th>991</th>\n",
       "      <th>992</th>\n",
       "      <th>993</th>\n",
       "      <th>994</th>\n",
       "      <th>995</th>\n",
       "      <th>996</th>\n",
       "      <th>997</th>\n",
       "      <th>998</th>\n",
       "      <th>999</th>\n",
       "    </tr>\n",
       "  </thead>\n",
       "  <tbody>\n",
       "    <tr>\n",
       "      <th>1990-01-01</th>\n",
       "      <td>0.943503</td>\n",
       "      <td>2.285943</td>\n",
       "      <td>-0.676534</td>\n",
       "      <td>-1.073370</td>\n",
       "      <td>0.222805</td>\n",
       "      <td>0.549741</td>\n",
       "      <td>-0.593814</td>\n",
       "      <td>2.178840</td>\n",
       "      <td>0.352440</td>\n",
       "      <td>0.201713</td>\n",
       "      <td>...</td>\n",
       "      <td>0.096125</td>\n",
       "      <td>0.953935</td>\n",
       "      <td>0.301930</td>\n",
       "      <td>-0.362019</td>\n",
       "      <td>-1.161094</td>\n",
       "      <td>0.653639</td>\n",
       "      <td>1.052906</td>\n",
       "      <td>0.412227</td>\n",
       "      <td>-0.554256</td>\n",
       "      <td>1.024348</td>\n",
       "    </tr>\n",
       "    <tr>\n",
       "      <th>1990-01-02</th>\n",
       "      <td>0.757759</td>\n",
       "      <td>0.420328</td>\n",
       "      <td>-0.171919</td>\n",
       "      <td>-0.256779</td>\n",
       "      <td>-0.026867</td>\n",
       "      <td>0.469453</td>\n",
       "      <td>-2.414748</td>\n",
       "      <td>-1.230617</td>\n",
       "      <td>-1.632244</td>\n",
       "      <td>-1.584294</td>\n",
       "      <td>...</td>\n",
       "      <td>1.929657</td>\n",
       "      <td>-0.209801</td>\n",
       "      <td>-0.152551</td>\n",
       "      <td>-0.696473</td>\n",
       "      <td>1.722749</td>\n",
       "      <td>0.661907</td>\n",
       "      <td>-1.248569</td>\n",
       "      <td>1.736036</td>\n",
       "      <td>0.291525</td>\n",
       "      <td>-0.461472</td>\n",
       "    </tr>\n",
       "    <tr>\n",
       "      <th>1990-01-03</th>\n",
       "      <td>1.321828</td>\n",
       "      <td>0.338798</td>\n",
       "      <td>-0.056767</td>\n",
       "      <td>0.831892</td>\n",
       "      <td>-0.237888</td>\n",
       "      <td>-0.280212</td>\n",
       "      <td>-0.863612</td>\n",
       "      <td>-0.339115</td>\n",
       "      <td>-0.197328</td>\n",
       "      <td>0.885977</td>\n",
       "      <td>...</td>\n",
       "      <td>-0.920220</td>\n",
       "      <td>-0.984264</td>\n",
       "      <td>0.561081</td>\n",
       "      <td>2.038433</td>\n",
       "      <td>0.073335</td>\n",
       "      <td>-0.187716</td>\n",
       "      <td>-0.597649</td>\n",
       "      <td>-0.091542</td>\n",
       "      <td>1.148625</td>\n",
       "      <td>0.413747</td>\n",
       "    </tr>\n",
       "    <tr>\n",
       "      <th>1990-01-04</th>\n",
       "      <td>0.791808</td>\n",
       "      <td>-1.413861</td>\n",
       "      <td>0.796525</td>\n",
       "      <td>-1.579936</td>\n",
       "      <td>1.093092</td>\n",
       "      <td>0.177056</td>\n",
       "      <td>-0.221590</td>\n",
       "      <td>0.454206</td>\n",
       "      <td>-0.883866</td>\n",
       "      <td>0.225825</td>\n",
       "      <td>...</td>\n",
       "      <td>-1.637996</td>\n",
       "      <td>-0.037544</td>\n",
       "      <td>0.299472</td>\n",
       "      <td>-1.459668</td>\n",
       "      <td>-1.006607</td>\n",
       "      <td>-1.116544</td>\n",
       "      <td>0.165441</td>\n",
       "      <td>0.946803</td>\n",
       "      <td>-0.738654</td>\n",
       "      <td>-0.376507</td>\n",
       "    </tr>\n",
       "    <tr>\n",
       "      <th>1990-01-05</th>\n",
       "      <td>0.703500</td>\n",
       "      <td>-1.096535</td>\n",
       "      <td>0.303689</td>\n",
       "      <td>0.841819</td>\n",
       "      <td>-1.199948</td>\n",
       "      <td>-0.336136</td>\n",
       "      <td>1.417628</td>\n",
       "      <td>0.440125</td>\n",
       "      <td>-1.757652</td>\n",
       "      <td>2.210187</td>\n",
       "      <td>...</td>\n",
       "      <td>-1.900305</td>\n",
       "      <td>-0.473095</td>\n",
       "      <td>-0.084830</td>\n",
       "      <td>-0.108897</td>\n",
       "      <td>-0.971338</td>\n",
       "      <td>-1.226582</td>\n",
       "      <td>1.515971</td>\n",
       "      <td>0.778013</td>\n",
       "      <td>1.755896</td>\n",
       "      <td>2.025973</td>\n",
       "    </tr>\n",
       "  </tbody>\n",
       "</table>\n",
       "<p>5 rows × 1000 columns</p>\n",
       "</div>"
      ],
      "text/plain": [
       "                   0         1         2         3         4         5  \\\n",
       "1990-01-01  0.943503  2.285943 -0.676534 -1.073370  0.222805  0.549741   \n",
       "1990-01-02  0.757759  0.420328 -0.171919 -0.256779 -0.026867  0.469453   \n",
       "1990-01-03  1.321828  0.338798 -0.056767  0.831892 -0.237888 -0.280212   \n",
       "1990-01-04  0.791808 -1.413861  0.796525 -1.579936  1.093092  0.177056   \n",
       "1990-01-05  0.703500 -1.096535  0.303689  0.841819 -1.199948 -0.336136   \n",
       "\n",
       "                   6         7         8         9  ...       990       991  \\\n",
       "1990-01-01 -0.593814  2.178840  0.352440  0.201713  ...  0.096125  0.953935   \n",
       "1990-01-02 -2.414748 -1.230617 -1.632244 -1.584294  ...  1.929657 -0.209801   \n",
       "1990-01-03 -0.863612 -0.339115 -0.197328  0.885977  ... -0.920220 -0.984264   \n",
       "1990-01-04 -0.221590  0.454206 -0.883866  0.225825  ... -1.637996 -0.037544   \n",
       "1990-01-05  1.417628  0.440125 -1.757652  2.210187  ... -1.900305 -0.473095   \n",
       "\n",
       "                 992       993       994       995       996       997  \\\n",
       "1990-01-01  0.301930 -0.362019 -1.161094  0.653639  1.052906  0.412227   \n",
       "1990-01-02 -0.152551 -0.696473  1.722749  0.661907 -1.248569  1.736036   \n",
       "1990-01-03  0.561081  2.038433  0.073335 -0.187716 -0.597649 -0.091542   \n",
       "1990-01-04  0.299472 -1.459668 -1.006607 -1.116544  0.165441  0.946803   \n",
       "1990-01-05 -0.084830 -0.108897 -0.971338 -1.226582  1.515971  0.778013   \n",
       "\n",
       "                 998       999  \n",
       "1990-01-01 -0.554256  1.024348  \n",
       "1990-01-02  0.291525 -0.461472  \n",
       "1990-01-03  1.148625  0.413747  \n",
       "1990-01-04 -0.738654 -0.376507  \n",
       "1990-01-05  1.755896  2.025973  \n",
       "\n",
       "[5 rows x 1000 columns]"
      ]
     },
     "execution_count": 64,
     "metadata": {},
     "output_type": "execute_result"
    },
    {
     "data": {
      "text/html": [
       "<div>\n",
       "<style scoped>\n",
       "    .dataframe tbody tr th:only-of-type {\n",
       "        vertical-align: middle;\n",
       "    }\n",
       "\n",
       "    .dataframe tbody tr th {\n",
       "        vertical-align: top;\n",
       "    }\n",
       "\n",
       "    .dataframe thead th {\n",
       "        text-align: right;\n",
       "    }\n",
       "</style>\n",
       "<table border=\"1\" class=\"dataframe\">\n",
       "  <thead>\n",
       "    <tr style=\"text-align: right;\">\n",
       "      <th></th>\n",
       "      <th>0</th>\n",
       "      <th>1</th>\n",
       "      <th>2</th>\n",
       "      <th>3</th>\n",
       "      <th>4</th>\n",
       "      <th>5</th>\n",
       "      <th>6</th>\n",
       "      <th>7</th>\n",
       "      <th>8</th>\n",
       "      <th>9</th>\n",
       "      <th>...</th>\n",
       "      <th>990</th>\n",
       "      <th>991</th>\n",
       "      <th>992</th>\n",
       "      <th>993</th>\n",
       "      <th>994</th>\n",
       "      <th>995</th>\n",
       "      <th>996</th>\n",
       "      <th>997</th>\n",
       "      <th>998</th>\n",
       "      <th>999</th>\n",
       "    </tr>\n",
       "  </thead>\n",
       "  <tbody>\n",
       "    <tr>\n",
       "      <th>2009-02-25</th>\n",
       "      <td>0.080533</td>\n",
       "      <td>0.256312</td>\n",
       "      <td>0.559213</td>\n",
       "      <td>1.508573</td>\n",
       "      <td>-0.952171</td>\n",
       "      <td>-0.063566</td>\n",
       "      <td>-2.106840</td>\n",
       "      <td>1.232395</td>\n",
       "      <td>1.730807</td>\n",
       "      <td>-1.178106</td>\n",
       "      <td>...</td>\n",
       "      <td>0.020103</td>\n",
       "      <td>1.339799</td>\n",
       "      <td>0.368437</td>\n",
       "      <td>-1.492337</td>\n",
       "      <td>1.643798</td>\n",
       "      <td>1.277063</td>\n",
       "      <td>0.327296</td>\n",
       "      <td>0.701744</td>\n",
       "      <td>0.542135</td>\n",
       "      <td>-1.219524</td>\n",
       "    </tr>\n",
       "    <tr>\n",
       "      <th>2009-02-26</th>\n",
       "      <td>-0.540102</td>\n",
       "      <td>-1.303380</td>\n",
       "      <td>-0.708246</td>\n",
       "      <td>-0.882363</td>\n",
       "      <td>0.587085</td>\n",
       "      <td>0.489231</td>\n",
       "      <td>-0.034246</td>\n",
       "      <td>-1.309256</td>\n",
       "      <td>-1.398321</td>\n",
       "      <td>0.729492</td>\n",
       "      <td>...</td>\n",
       "      <td>0.039901</td>\n",
       "      <td>-0.068265</td>\n",
       "      <td>0.573422</td>\n",
       "      <td>-0.426901</td>\n",
       "      <td>-2.334531</td>\n",
       "      <td>0.265245</td>\n",
       "      <td>0.620735</td>\n",
       "      <td>-1.373623</td>\n",
       "      <td>0.601200</td>\n",
       "      <td>0.966787</td>\n",
       "    </tr>\n",
       "    <tr>\n",
       "      <th>2009-02-27</th>\n",
       "      <td>0.361646</td>\n",
       "      <td>-2.647456</td>\n",
       "      <td>0.687982</td>\n",
       "      <td>2.068186</td>\n",
       "      <td>1.602446</td>\n",
       "      <td>0.698092</td>\n",
       "      <td>0.875561</td>\n",
       "      <td>-1.077449</td>\n",
       "      <td>-0.402130</td>\n",
       "      <td>0.377512</td>\n",
       "      <td>...</td>\n",
       "      <td>-0.008212</td>\n",
       "      <td>1.080585</td>\n",
       "      <td>-0.493124</td>\n",
       "      <td>-0.357810</td>\n",
       "      <td>0.675277</td>\n",
       "      <td>-2.370957</td>\n",
       "      <td>-0.081190</td>\n",
       "      <td>2.212157</td>\n",
       "      <td>-0.707208</td>\n",
       "      <td>-0.943612</td>\n",
       "    </tr>\n",
       "    <tr>\n",
       "      <th>2009-02-28</th>\n",
       "      <td>2.320730</td>\n",
       "      <td>-1.205485</td>\n",
       "      <td>0.891637</td>\n",
       "      <td>0.290391</td>\n",
       "      <td>-1.215879</td>\n",
       "      <td>1.059935</td>\n",
       "      <td>-0.714370</td>\n",
       "      <td>0.033922</td>\n",
       "      <td>-0.347714</td>\n",
       "      <td>0.185106</td>\n",
       "      <td>...</td>\n",
       "      <td>0.876502</td>\n",
       "      <td>1.333054</td>\n",
       "      <td>0.118427</td>\n",
       "      <td>-0.167022</td>\n",
       "      <td>-0.740728</td>\n",
       "      <td>-0.122609</td>\n",
       "      <td>1.360370</td>\n",
       "      <td>-1.604320</td>\n",
       "      <td>0.187666</td>\n",
       "      <td>0.184501</td>\n",
       "    </tr>\n",
       "    <tr>\n",
       "      <th>2009-03-01</th>\n",
       "      <td>-0.489193</td>\n",
       "      <td>1.548652</td>\n",
       "      <td>-2.301989</td>\n",
       "      <td>-0.230718</td>\n",
       "      <td>-1.228268</td>\n",
       "      <td>-0.208020</td>\n",
       "      <td>1.476721</td>\n",
       "      <td>-1.531453</td>\n",
       "      <td>-0.298059</td>\n",
       "      <td>-0.735896</td>\n",
       "      <td>...</td>\n",
       "      <td>-0.934719</td>\n",
       "      <td>2.551681</td>\n",
       "      <td>0.045813</td>\n",
       "      <td>0.646710</td>\n",
       "      <td>-0.853424</td>\n",
       "      <td>0.314131</td>\n",
       "      <td>-2.215948</td>\n",
       "      <td>0.488905</td>\n",
       "      <td>-0.555551</td>\n",
       "      <td>-1.060801</td>\n",
       "    </tr>\n",
       "  </tbody>\n",
       "</table>\n",
       "<p>5 rows × 1000 columns</p>\n",
       "</div>"
      ],
      "text/plain": [
       "                   0         1         2         3         4         5  \\\n",
       "2009-02-25  0.080533  0.256312  0.559213  1.508573 -0.952171 -0.063566   \n",
       "2009-02-26 -0.540102 -1.303380 -0.708246 -0.882363  0.587085  0.489231   \n",
       "2009-02-27  0.361646 -2.647456  0.687982  2.068186  1.602446  0.698092   \n",
       "2009-02-28  2.320730 -1.205485  0.891637  0.290391 -1.215879  1.059935   \n",
       "2009-03-01 -0.489193  1.548652 -2.301989 -0.230718 -1.228268 -0.208020   \n",
       "\n",
       "                   6         7         8         9  ...       990       991  \\\n",
       "2009-02-25 -2.106840  1.232395  1.730807 -1.178106  ...  0.020103  1.339799   \n",
       "2009-02-26 -0.034246 -1.309256 -1.398321  0.729492  ...  0.039901 -0.068265   \n",
       "2009-02-27  0.875561 -1.077449 -0.402130  0.377512  ... -0.008212  1.080585   \n",
       "2009-02-28 -0.714370  0.033922 -0.347714  0.185106  ...  0.876502  1.333054   \n",
       "2009-03-01  1.476721 -1.531453 -0.298059 -0.735896  ... -0.934719  2.551681   \n",
       "\n",
       "                 992       993       994       995       996       997  \\\n",
       "2009-02-25  0.368437 -1.492337  1.643798  1.277063  0.327296  0.701744   \n",
       "2009-02-26  0.573422 -0.426901 -2.334531  0.265245  0.620735 -1.373623   \n",
       "2009-02-27 -0.493124 -0.357810  0.675277 -2.370957 -0.081190  2.212157   \n",
       "2009-02-28  0.118427 -0.167022 -0.740728 -0.122609  1.360370 -1.604320   \n",
       "2009-03-01  0.045813  0.646710 -0.853424  0.314131 -2.215948  0.488905   \n",
       "\n",
       "                 998       999  \n",
       "2009-02-25  0.542135 -1.219524  \n",
       "2009-02-26  0.601200  0.966787  \n",
       "2009-02-27 -0.707208 -0.943612  \n",
       "2009-02-28  0.187666  0.184501  \n",
       "2009-03-01 -0.555551 -1.060801  \n",
       "\n",
       "[5 rows x 1000 columns]"
      ]
     },
     "execution_count": 64,
     "metadata": {},
     "output_type": "execute_result"
    },
    {
     "data": {
      "text/plain": [
       "(3000, 1000)"
      ]
     },
     "execution_count": 64,
     "metadata": {},
     "output_type": "execute_result"
    },
    {
     "data": {
      "text/html": [
       "<div>\n",
       "<style scoped>\n",
       "    .dataframe tbody tr th:only-of-type {\n",
       "        vertical-align: middle;\n",
       "    }\n",
       "\n",
       "    .dataframe tbody tr th {\n",
       "        vertical-align: top;\n",
       "    }\n",
       "\n",
       "    .dataframe thead th {\n",
       "        text-align: right;\n",
       "    }\n",
       "</style>\n",
       "<table border=\"1\" class=\"dataframe\">\n",
       "  <thead>\n",
       "    <tr style=\"text-align: right;\">\n",
       "      <th></th>\n",
       "      <th>0</th>\n",
       "      <th>1</th>\n",
       "      <th>2</th>\n",
       "      <th>3</th>\n",
       "      <th>4</th>\n",
       "      <th>5</th>\n",
       "      <th>6</th>\n",
       "      <th>7</th>\n",
       "      <th>8</th>\n",
       "      <th>9</th>\n",
       "      <th>...</th>\n",
       "      <th>990</th>\n",
       "      <th>991</th>\n",
       "      <th>992</th>\n",
       "      <th>993</th>\n",
       "      <th>994</th>\n",
       "      <th>995</th>\n",
       "      <th>996</th>\n",
       "      <th>997</th>\n",
       "      <th>998</th>\n",
       "      <th>999</th>\n",
       "    </tr>\n",
       "  </thead>\n",
       "  <tbody>\n",
       "    <tr>\n",
       "      <th>2009-03-02</th>\n",
       "      <td>0.959959</td>\n",
       "      <td>-0.135630</td>\n",
       "      <td>-0.719417</td>\n",
       "      <td>0.633197</td>\n",
       "      <td>0.162678</td>\n",
       "      <td>0.954001</td>\n",
       "      <td>0.218915</td>\n",
       "      <td>-1.077025</td>\n",
       "      <td>0.337764</td>\n",
       "      <td>2.078492</td>\n",
       "      <td>...</td>\n",
       "      <td>-0.226721</td>\n",
       "      <td>-0.671868</td>\n",
       "      <td>1.767070</td>\n",
       "      <td>-0.334827</td>\n",
       "      <td>-0.043890</td>\n",
       "      <td>-0.037443</td>\n",
       "      <td>-0.318301</td>\n",
       "      <td>1.047346</td>\n",
       "      <td>-0.008123</td>\n",
       "      <td>-0.391694</td>\n",
       "    </tr>\n",
       "    <tr>\n",
       "      <th>2009-03-03</th>\n",
       "      <td>0.151288</td>\n",
       "      <td>0.577267</td>\n",
       "      <td>0.582642</td>\n",
       "      <td>0.868066</td>\n",
       "      <td>0.967827</td>\n",
       "      <td>-0.705060</td>\n",
       "      <td>-1.429996</td>\n",
       "      <td>-0.365355</td>\n",
       "      <td>1.430644</td>\n",
       "      <td>-1.010319</td>\n",
       "      <td>...</td>\n",
       "      <td>-0.514840</td>\n",
       "      <td>-0.477410</td>\n",
       "      <td>-0.585001</td>\n",
       "      <td>1.156334</td>\n",
       "      <td>1.500593</td>\n",
       "      <td>0.622640</td>\n",
       "      <td>1.537334</td>\n",
       "      <td>-0.996524</td>\n",
       "      <td>0.136070</td>\n",
       "      <td>-1.243357</td>\n",
       "    </tr>\n",
       "    <tr>\n",
       "      <th>2009-03-04</th>\n",
       "      <td>-0.762183</td>\n",
       "      <td>0.558467</td>\n",
       "      <td>1.570452</td>\n",
       "      <td>-0.161511</td>\n",
       "      <td>0.755039</td>\n",
       "      <td>0.066518</td>\n",
       "      <td>-0.123605</td>\n",
       "      <td>-0.244742</td>\n",
       "      <td>0.257167</td>\n",
       "      <td>0.235104</td>\n",
       "      <td>...</td>\n",
       "      <td>-0.238711</td>\n",
       "      <td>0.095388</td>\n",
       "      <td>0.171662</td>\n",
       "      <td>-0.638782</td>\n",
       "      <td>-1.391247</td>\n",
       "      <td>0.012936</td>\n",
       "      <td>-0.526739</td>\n",
       "      <td>-0.115704</td>\n",
       "      <td>2.124018</td>\n",
       "      <td>-0.842850</td>\n",
       "    </tr>\n",
       "    <tr>\n",
       "      <th>2009-03-05</th>\n",
       "      <td>0.142225</td>\n",
       "      <td>0.432812</td>\n",
       "      <td>0.334751</td>\n",
       "      <td>1.324464</td>\n",
       "      <td>1.227664</td>\n",
       "      <td>-0.825051</td>\n",
       "      <td>-0.250942</td>\n",
       "      <td>0.842679</td>\n",
       "      <td>0.600740</td>\n",
       "      <td>0.144661</td>\n",
       "      <td>...</td>\n",
       "      <td>0.035249</td>\n",
       "      <td>-0.137280</td>\n",
       "      <td>-1.828886</td>\n",
       "      <td>-0.345241</td>\n",
       "      <td>-1.724927</td>\n",
       "      <td>-0.103295</td>\n",
       "      <td>0.111466</td>\n",
       "      <td>-0.023077</td>\n",
       "      <td>-1.791797</td>\n",
       "      <td>-0.386819</td>\n",
       "    </tr>\n",
       "    <tr>\n",
       "      <th>2009-03-06</th>\n",
       "      <td>-0.320024</td>\n",
       "      <td>0.170332</td>\n",
       "      <td>-0.892417</td>\n",
       "      <td>0.113862</td>\n",
       "      <td>0.292723</td>\n",
       "      <td>-1.074066</td>\n",
       "      <td>-0.347674</td>\n",
       "      <td>1.159304</td>\n",
       "      <td>-1.054585</td>\n",
       "      <td>-1.011236</td>\n",
       "      <td>...</td>\n",
       "      <td>0.781884</td>\n",
       "      <td>-0.029404</td>\n",
       "      <td>-0.028342</td>\n",
       "      <td>-0.613715</td>\n",
       "      <td>0.788471</td>\n",
       "      <td>-0.821906</td>\n",
       "      <td>0.271830</td>\n",
       "      <td>-1.952343</td>\n",
       "      <td>0.718141</td>\n",
       "      <td>0.755541</td>\n",
       "    </tr>\n",
       "  </tbody>\n",
       "</table>\n",
       "<p>5 rows × 1000 columns</p>\n",
       "</div>"
      ],
      "text/plain": [
       "                   0         1         2         3         4         5  \\\n",
       "2009-03-02  0.959959 -0.135630 -0.719417  0.633197  0.162678  0.954001   \n",
       "2009-03-03  0.151288  0.577267  0.582642  0.868066  0.967827 -0.705060   \n",
       "2009-03-04 -0.762183  0.558467  1.570452 -0.161511  0.755039  0.066518   \n",
       "2009-03-05  0.142225  0.432812  0.334751  1.324464  1.227664 -0.825051   \n",
       "2009-03-06 -0.320024  0.170332 -0.892417  0.113862  0.292723 -1.074066   \n",
       "\n",
       "                   6         7         8         9  ...       990       991  \\\n",
       "2009-03-02  0.218915 -1.077025  0.337764  2.078492  ... -0.226721 -0.671868   \n",
       "2009-03-03 -1.429996 -0.365355  1.430644 -1.010319  ... -0.514840 -0.477410   \n",
       "2009-03-04 -0.123605 -0.244742  0.257167  0.235104  ... -0.238711  0.095388   \n",
       "2009-03-05 -0.250942  0.842679  0.600740  0.144661  ...  0.035249 -0.137280   \n",
       "2009-03-06 -0.347674  1.159304 -1.054585 -1.011236  ...  0.781884 -0.029404   \n",
       "\n",
       "                 992       993       994       995       996       997  \\\n",
       "2009-03-02  1.767070 -0.334827 -0.043890 -0.037443 -0.318301  1.047346   \n",
       "2009-03-03 -0.585001  1.156334  1.500593  0.622640  1.537334 -0.996524   \n",
       "2009-03-04  0.171662 -0.638782 -1.391247  0.012936 -0.526739 -0.115704   \n",
       "2009-03-05 -1.828886 -0.345241 -1.724927 -0.103295  0.111466 -0.023077   \n",
       "2009-03-06 -0.028342 -0.613715  0.788471 -0.821906  0.271830 -1.952343   \n",
       "\n",
       "                 998       999  \n",
       "2009-03-02 -0.008123 -0.391694  \n",
       "2009-03-03  0.136070 -1.243357  \n",
       "2009-03-04  2.124018 -0.842850  \n",
       "2009-03-05 -1.791797 -0.386819  \n",
       "2009-03-06  0.718141  0.755541  \n",
       "\n",
       "[5 rows x 1000 columns]"
      ]
     },
     "execution_count": 64,
     "metadata": {},
     "output_type": "execute_result"
    },
    {
     "data": {
      "text/plain": [
       "(7000, 1)"
      ]
     },
     "execution_count": 64,
     "metadata": {},
     "output_type": "execute_result"
    },
    {
     "data": {
      "text/plain": [
       "(3000, 1)"
      ]
     },
     "execution_count": 64,
     "metadata": {},
     "output_type": "execute_result"
    }
   ],
   "source": [
    "# split between training and test data set\n",
    "train_size = 0.7\n",
    "train_len = int(len(features.index) * train_size)\n",
    "test_len = int(len(features.index) * (1-train_size))\n",
    "xtrain = features.iloc[:train_len]\n",
    "xtest = features.iloc[train_len:]\n",
    "ytrain = target.iloc[:train_len]\n",
    "ytest = target.iloc[train_len:]\n",
    "xtrain.shape\n",
    "xtrain.head()\n",
    "xtrain.tail()\n",
    "xtest.shape\n",
    "xtest.head()\n",
    "ytrain.shape\n",
    "ytest.shape"
   ]
  },
  {
   "cell_type": "markdown",
   "id": "a16478da",
   "metadata": {},
   "source": [
    "Given that there are 1000 features in the dataset, and I dont have any prior which features should be included in the modelling, so I used backward elimination approach to select features. It starts with considering all the features in a simple model and removes the least significant feature iteratively."
   ]
  },
  {
   "cell_type": "code",
   "execution_count": 30,
   "id": "d9e81606",
   "metadata": {},
   "outputs": [],
   "source": [
    "# model evaluationn fundtion\n",
    "def model_evaluation (ytrue, ypred, model_name, num_observations, num_features):\n",
    "    print (f'***{model_name}***')\n",
    "    r_squared = r2_score(y_pred=ypred, y_true = ytrue)\n",
    "    adjusted_r_squared = 1-(1-r_squared)*(num_observations-1)/(num_observations-num_features-1)\n",
    "    print(f'R squared:  {r_squared}')\n",
    "    print(f'Adjusted R squared:  {adjusted_r_squared}')\n",
    "    print(f'MSE:  {mean_squared_error(y_pred=ypred, y_true = ytrue)}')\n",
    "    print(f'MAE:  {mean_absolute_error(y_pred=ypred, y_true = ytrue)}')"
   ]
  },
  {
   "cell_type": "markdown",
   "id": "1a7f41b2",
   "metadata": {},
   "source": [
    "For model evaluation metrics, I output R squared, adjusted R squared, MSE, and MAE. Given that we want to see how well the predicted value can predict target value, and MAE is generally more robust to outliers, I choose MAE as the model evaluation metric, while keep other metrics as reference points."
   ]
  },
  {
   "cell_type": "code",
   "execution_count": 65,
   "id": "ef7dfc2e",
   "metadata": {},
   "outputs": [
    {
     "data": {
      "text/plain": [
       "LinearRegression()"
      ]
     },
     "execution_count": 65,
     "metadata": {},
     "output_type": "execute_result"
    },
    {
     "name": "stdout",
     "output_type": "stream",
     "text": [
      "***Linear Regression***\n",
      "R squared:  -0.17344157970784213\n",
      "Adjusted R squared:  -0.7604558767102645\n",
      "MSE:  1.1590475620509946\n",
      "MAE:  0.8594806641537901\n"
     ]
    }
   ],
   "source": [
    "# fit all features in a linear model to see if any less important features can be removed\n",
    "linear_model = LinearRegression()\n",
    "linear_model.fit(xtrain, ytrain)\n",
    "linear_model_pred = linear_model.predict(xtest)\n",
    "model_evaluation(ytrue = ytest, ypred = linear_model_pred, model_name='Linear Regression', \n",
    "                 num_observations =xtest.shape[0],num_features=xtest.shape[1] )"
   ]
  },
  {
   "cell_type": "code",
   "execution_count": 66,
   "id": "004a7136",
   "metadata": {},
   "outputs": [
    {
     "data": {
      "text/html": [
       "<div>\n",
       "<style scoped>\n",
       "    .dataframe tbody tr th:only-of-type {\n",
       "        vertical-align: middle;\n",
       "    }\n",
       "\n",
       "    .dataframe tbody tr th {\n",
       "        vertical-align: top;\n",
       "    }\n",
       "\n",
       "    .dataframe thead th {\n",
       "        text-align: right;\n",
       "    }\n",
       "</style>\n",
       "<table border=\"1\" class=\"dataframe\">\n",
       "  <thead>\n",
       "    <tr style=\"text-align: right;\">\n",
       "      <th></th>\n",
       "      <th>Coefficient</th>\n",
       "    </tr>\n",
       "  </thead>\n",
       "  <tbody>\n",
       "    <tr>\n",
       "      <th>776</th>\n",
       "      <td>-0.054882</td>\n",
       "    </tr>\n",
       "    <tr>\n",
       "      <th>206</th>\n",
       "      <td>-0.040953</td>\n",
       "    </tr>\n",
       "    <tr>\n",
       "      <th>10</th>\n",
       "      <td>-0.033684</td>\n",
       "    </tr>\n",
       "    <tr>\n",
       "      <th>463</th>\n",
       "      <td>-0.031403</td>\n",
       "    </tr>\n",
       "    <tr>\n",
       "      <th>81</th>\n",
       "      <td>-0.030674</td>\n",
       "    </tr>\n",
       "    <tr>\n",
       "      <th>...</th>\n",
       "      <td>...</td>\n",
       "    </tr>\n",
       "    <tr>\n",
       "      <th>211</th>\n",
       "      <td>0.033871</td>\n",
       "    </tr>\n",
       "    <tr>\n",
       "      <th>292</th>\n",
       "      <td>0.033934</td>\n",
       "    </tr>\n",
       "    <tr>\n",
       "      <th>732</th>\n",
       "      <td>0.037534</td>\n",
       "    </tr>\n",
       "    <tr>\n",
       "      <th>871</th>\n",
       "      <td>0.037993</td>\n",
       "    </tr>\n",
       "    <tr>\n",
       "      <th>618</th>\n",
       "      <td>0.038452</td>\n",
       "    </tr>\n",
       "  </tbody>\n",
       "</table>\n",
       "<p>1000 rows × 1 columns</p>\n",
       "</div>"
      ],
      "text/plain": [
       "     Coefficient\n",
       "776    -0.054882\n",
       "206    -0.040953\n",
       "10     -0.033684\n",
       "463    -0.031403\n",
       "81     -0.030674\n",
       "..           ...\n",
       "211     0.033871\n",
       "292     0.033934\n",
       "732     0.037534\n",
       "871     0.037993\n",
       "618     0.038452\n",
       "\n",
       "[1000 rows x 1 columns]"
      ]
     },
     "execution_count": 66,
     "metadata": {},
     "output_type": "execute_result"
    }
   ],
   "source": [
    "#feature importance\n",
    "linear_model_feature_importance = pd.DataFrame(linear_model.coef_, columns = xtest.columns, index = ['Coefficient']).T\n",
    "linear_model_feature_importance.sort_values('Coefficient')"
   ]
  },
  {
   "cell_type": "code",
   "execution_count": 67,
   "id": "f06a474a",
   "metadata": {},
   "outputs": [
    {
     "data": {
      "text/plain": [
       "<AxesSubplot:title={'center':'ytest Cumsum Plot'}>"
      ]
     },
     "execution_count": 67,
     "metadata": {},
     "output_type": "execute_result"
    },
    {
     "data": {
      "text/plain": [
       "<AxesSubplot:title={'center':'linear_model_pred Cumsum Plot'}>"
      ]
     },
     "execution_count": 67,
     "metadata": {},
     "output_type": "execute_result"
    },
    {
     "data": {
      "image/png": "[encoded data removed]",
      "text/plain": [
       "<Figure size 432x288 with 1 Axes>"
      ]
     },
     "metadata": {
      "needs_background": "light"
     },
     "output_type": "display_data"
    },
    {
     "data": {
      "image/png": "[encoded data removed]",
      "text/plain": [
       "<Figure size 432x288 with 1 Axes>"
      ]
     },
     "metadata": {
      "needs_background": "light"
     },
     "output_type": "display_data"
    }
   ],
   "source": [
    "# comparing path\n",
    "linear_model_pred_df = pd.DataFrame(linear_model_pred, columns = ['linear_model_pred'], index = ytest.index)\n",
    "\n",
    "ytest.cumsum().plot(title = 'ytest Cumsum Plot')\n",
    "linear_model_pred_df.cumsum().plot(title = 'linear_model_pred Cumsum Plot')"
   ]
  },
  {
   "cell_type": "markdown",
   "id": "e0796622",
   "metadata": {},
   "source": [
    "Each feature has coefficient of roughly 0, which makes it hard to remove any features. In addition, the results also tells us linear model is not a good fit. With that, I further explored some non-linear models."
   ]
  },
  {
   "cell_type": "code",
   "execution_count": null,
   "id": "c29bbeb4",
   "metadata": {},
   "outputs": [],
   "source": [
    "# fit all features in Decision Trees"
   ]
  },
  {
   "cell_type": "code",
   "execution_count": 79,
   "id": "16a26af1",
   "metadata": {},
   "outputs": [
    {
     "data": {
      "text/plain": [
       "DecisionTreeRegressor()"
      ]
     },
     "execution_count": 79,
     "metadata": {},
     "output_type": "execute_result"
    },
    {
     "name": "stdout",
     "output_type": "stream",
     "text": [
      "***Decision Tree Regression***\n",
      "R squared:  -0.9521423060056222\n",
      "Adjusted R squared:  -1.9287017387247927\n",
      "MSE:  1.9281963581994093\n",
      "MAE:  1.0991799863008054\n"
     ]
    }
   ],
   "source": [
    "dt_model = DecisionTreeRegressor()\n",
    "dt_model.fit(xtrain, ytrain)\n",
    "dt_modell_pred = dt_model.predict(xtest)\n",
    "model_evaluation(ytrue = ytest, ypred = dt_modell_pred, model_name='Decision Tree Regression', \n",
    "                 num_observations =xtest.shape[0],num_features=xtest.shape[1] )"
   ]
  },
  {
   "cell_type": "code",
   "execution_count": 263,
   "id": "15973a14",
   "metadata": {},
   "outputs": [
    {
     "name": "stderr",
     "output_type": "stream",
     "text": [
      "C:\\Users\\sarahwang\\AppData\\Local\\conda\\conda\\envs\\mlenv\\lib\\site-packages\\pandas\\plotting\\_matplotlib\\core.py:1235: UserWarning: FixedFormatter should only be used together with FixedLocator\n",
      "  ax.set_xticklabels(xticklabels)\n"
     ]
    },
    {
     "data": {
      "text/plain": [
       "<AxesSubplot:>"
      ]
     },
     "execution_count": 263,
     "metadata": {},
     "output_type": "execute_result"
    },
    {
     "data": {
      "image/png": "[encoded data removed]",
      "text/plain": [
       "<Figure size 432x288 with 1 Axes>"
      ]
     },
     "metadata": {
      "needs_background": "light"
     },
     "output_type": "display_data"
    }
   ],
   "source": [
    "# feature importance\n",
    "dt_model_feature_importance = pd.DataFrame(dt_model.feature_importances_, index = xtest.columns, columns = ['Feature Importance'])\n",
    "dt_model_feature_importance = dt_model_feature_importance.sort_values('Feature Importance')\n",
    "dt_model_feature_importance.plot()\n"
   ]
  },
  {
   "cell_type": "markdown",
   "id": "d124e925",
   "metadata": {},
   "source": [
    "After sorting features importance, features after 979 seems to come with higher feature importance. Therefore, I choose feature 979 as the cutoff points, and select features with larger feature importancen than feature 979. That gives us 200 features in total. It is a bit arbitrary in terms of the number of features selected. There is a tradeoff between selecting too much and too few number of features. If too few features are selected, model will be underfitting and not be able to pick up some importance variation from the training data. However, if too much features are selected, model will likely pick up noise from training data and not generalize well to test data. If more time is given, I can iterate more on the total number of features selected. \n",
    "\n",
    "The cumsum plot comparison between test data and predicted data is below. Although predicted data is not a perfect match of test data, it is able to pick up the overall trend, and is a leading indicator of the trough happened in 2013 in test dataset."
   ]
  },
  {
   "cell_type": "code",
   "execution_count": 81,
   "id": "0d861c5a",
   "metadata": {},
   "outputs": [
    {
     "data": {
      "text/plain": [
       "<AxesSubplot:title={'center':'ytest Cumsum Plot'}>"
      ]
     },
     "execution_count": 81,
     "metadata": {},
     "output_type": "execute_result"
    },
    {
     "data": {
      "text/plain": [
       "<AxesSubplot:title={'center':'decision_tree_model_pred Cumsum Plot'}>"
      ]
     },
     "execution_count": 81,
     "metadata": {},
     "output_type": "execute_result"
    },
    {
     "data": {
      "image/png": "[encoded data removed]",
      "text/plain": [
       "<Figure size 432x288 with 1 Axes>"
      ]
     },
     "metadata": {
      "needs_background": "light"
     },
     "output_type": "display_data"
    },
    {
     "data": {
      "image/png": "[encoded data removed]",
      "text/plain": [
       "<Figure size 432x288 with 1 Axes>"
      ]
     },
     "metadata": {
      "needs_background": "light"
     },
     "output_type": "display_data"
    }
   ],
   "source": [
    "# comparing path\n",
    "dt_model_pred_df = pd.DataFrame(dt_modell_pred, columns = ['decision_tree_model_pred'], index = ytest.index)\n",
    "\n",
    "ytest.cumsum().plot(title = 'ytest Cumsum Plot')\n",
    "dt_model_pred_df.cumsum().plot(title = 'decision_tree_model_pred Cumsum Plot')"
   ]
  },
  {
   "cell_type": "markdown",
   "id": "998b7495",
   "metadata": {},
   "source": [
    "Based on finding above, I narrowed down to 200 features, and conduct time series cross validation and hyperperamerter tuning."
   ]
  },
  {
   "cell_type": "code",
   "execution_count": 272,
   "id": "1a3b2665",
   "metadata": {},
   "outputs": [
    {
     "data": {
      "text/plain": [
       "Index(['979', '46', '202', '433', '665', '7', '669', '279', '310', '208',\n",
       "       ...\n",
       "       '12', '63', '360', '345', '459', '575', '606', '8', '280', '759'],\n",
       "      dtype='object', length=200)"
      ]
     },
     "execution_count": 272,
     "metadata": {},
     "output_type": "execute_result"
    }
   ],
   "source": [
    "# feature selection\n",
    "dt_variables = dt_model_feature_importance.loc['979':].index\n",
    "dt_variables"
   ]
  },
  {
   "cell_type": "code",
   "execution_count": 281,
   "id": "3dd7300d",
   "metadata": {},
   "outputs": [
    {
     "data": {
      "text/plain": [
       "DecisionTreeRegressor()"
      ]
     },
     "execution_count": 281,
     "metadata": {},
     "output_type": "execute_result"
    },
    {
     "name": "stdout",
     "output_type": "stream",
     "text": [
      "***Decision Tree Regression - Feature Selection***\n",
      "R squared:  -1.01668382108633\n",
      "Adjusted R squared:  -1.160784129845625\n",
      "MSE:  1.9919461749768212\n",
      "MAE:  1.1268329554391587\n"
     ]
    }
   ],
   "source": [
    "# training model\n",
    "dt_model = DecisionTreeRegressor()\n",
    "dt_model.fit(xtrain[dt_variables], ytrain)\n",
    "dt_modell_pred = dt_model.predict(xtest[dt_variables])\n",
    "model_evaluation(ytrue = ytest, ypred = dt_modell_pred, model_name='Decision Tree Regression - Feature Selection', \n",
    "                 num_observations =xtest.shape[0],num_features=len(dt_variables) )"
   ]
  },
  {
   "cell_type": "code",
   "execution_count": 282,
   "id": "40a13f86",
   "metadata": {},
   "outputs": [
    {
     "data": {
      "text/plain": [
       "<AxesSubplot:title={'center':'ytest Cumsum Plot'}>"
      ]
     },
     "execution_count": 282,
     "metadata": {},
     "output_type": "execute_result"
    },
    {
     "data": {
      "text/plain": [
       "<AxesSubplot:title={'center':'decision_tree_model_feature_selected Cumsum Plot'}>"
      ]
     },
     "execution_count": 282,
     "metadata": {},
     "output_type": "execute_result"
    },
    {
     "data": {
      "image/png": "[encoded data removed]",
      "text/plain": [
       "<Figure size 432x288 with 1 Axes>"
      ]
     },
     "metadata": {
      "needs_background": "light"
     },
     "output_type": "display_data"
    },
    {
     "data": {
      "image/png": "[encoded data removed]",
      "text/plain": [
       "<Figure size 432x288 with 1 Axes>"
      ]
     },
     "metadata": {
      "needs_background": "light"
     },
     "output_type": "display_data"
    }
   ],
   "source": [
    "# comparing path\n",
    "dt_modell_pred = pd.DataFrame(dt_modell_pred, columns = ['decision_tree_model_feature_selected'], index = ytest.index)\n",
    "\n",
    "ytest.cumsum().plot(title = 'ytest Cumsum Plot')\n",
    "dt_modell_pred.cumsum().plot(title = 'decision_tree_model_feature_selected Cumsum Plot')"
   ]
  },
  {
   "cell_type": "code",
   "execution_count": 317,
   "id": "addb2dd3",
   "metadata": {},
   "outputs": [
    {
     "name": "stdout",
     "output_type": "stream",
     "text": [
      "Fitting 4 folds for each of 15 candidates, totalling 60 fits\n"
     ]
    },
    {
     "name": "stderr",
     "output_type": "stream",
     "text": [
      "[Parallel(n_jobs=-1)]: Using backend LokyBackend with 8 concurrent workers.\n",
      "[Parallel(n_jobs=-1)]: Done  45 out of  60 | elapsed:    2.7s remaining:    0.8s\n",
      "[Parallel(n_jobs=-1)]: Done  60 out of  60 | elapsed:    4.3s finished\n"
     ]
    },
    {
     "data": {
      "text/plain": [
       "GridSearchCV(cv=TimeSeriesSplit(max_train_size=None, n_splits=4),\n",
       "             estimator=DecisionTreeRegressor(), n_jobs=-1,\n",
       "             param_grid={'max_depth': [2, 3, 5, 10, 20],\n",
       "                         'min_samples_leaf': [5, 10, 20]},\n",
       "             scoring='neg_mean_absolute_error', verbose=1)"
      ]
     },
     "execution_count": 317,
     "metadata": {},
     "output_type": "execute_result"
    }
   ],
   "source": [
    "# cross valication and hyperparameter tuning\n",
    "model = DecisionTreeRegressor()\n",
    "param_search = { \n",
    "    'min_samples_leaf': [5, 10,20],\n",
    "    'max_depth' : [2, 3, 5, 10, 20]\n",
    "}\n",
    "tscv = TimeSeriesSplit(n_splits=4)\n",
    "gsearch = GridSearchCV(estimator=model, cv=tscxv, param_grid=param_search, scoring = 'neg_mean_absolute_error', n_jobs = -1, verbose=1)\n",
    "gsearch.fit(xtrain[dt_variables], ytrain)\n",
    "best_score = gsearch.best_score_\n",
    "best_model = gsearch.best_estimator_"
   ]
  },
  {
   "cell_type": "code",
   "execution_count": 276,
   "id": "b33ad5b9",
   "metadata": {},
   "outputs": [
    {
     "data": {
      "text/plain": [
       "-0.0234340931793679"
      ]
     },
     "execution_count": 276,
     "metadata": {},
     "output_type": "execute_result"
    }
   ],
   "source": [
    "best_score"
   ]
  },
  {
   "cell_type": "code",
   "execution_count": 302,
   "id": "fc9df310",
   "metadata": {},
   "outputs": [
    {
     "data": {
      "text/plain": [
       "DecisionTreeRegressor(max_depth=2, min_samples_leaf=20)"
      ]
     },
     "execution_count": 302,
     "metadata": {},
     "output_type": "execute_result"
    }
   ],
   "source": [
    "best_model_dt = best_model\n",
    "best_model_dt"
   ]
  },
  {
   "cell_type": "code",
   "execution_count": 288,
   "id": "e9d63aab",
   "metadata": {},
   "outputs": [
    {
     "name": "stdout",
     "output_type": "stream",
     "text": [
      "***Decision Tree Regression - Tuned***\n",
      "R squared:  -0.008436640082603253\n",
      "Adjusted R squared:  -0.08049356327535806\n",
      "MSE:  0.9960666550282343\n",
      "MAE:  0.7914753593054723\n"
     ]
    }
   ],
   "source": [
    "# parametrical model evaluation\n",
    "best_model_dt_pred = gsearch.predict(xtest[dt_variables])\n",
    "model_evaluation(ytrue = ytest, ypred = best_model_dt_pred, model_name='Decision Tree Regression - Tuned', \n",
    "                 num_observations =xtest.shape[0],num_features=(len(dt_variables)) )"
   ]
  },
  {
   "cell_type": "code",
   "execution_count": 289,
   "id": "be3551d0",
   "metadata": {},
   "outputs": [
    {
     "data": {
      "text/plain": [
       "<AxesSubplot:title={'center':'ytest Cumsum Plot'}>"
      ]
     },
     "execution_count": 289,
     "metadata": {},
     "output_type": "execute_result"
    },
    {
     "data": {
      "text/plain": [
       "<AxesSubplot:title={'center':'decision_tree_model_tuned Cumsum Plot'}>"
      ]
     },
     "execution_count": 289,
     "metadata": {},
     "output_type": "execute_result"
    },
    {
     "data": {
      "image/png": "[encoded data removed]",
      "text/plain": [
       "<Figure size 432x288 with 1 Axes>"
      ]
     },
     "metadata": {
      "needs_background": "light"
     },
     "output_type": "display_data"
    },
    {
     "data": {
      "image/png": "[encoded data removed]",
      "text/plain": [
       "<Figure size 432x288 with 1 Axes>"
      ]
     },
     "metadata": {
      "needs_background": "light"
     },
     "output_type": "display_data"
    }
   ],
   "source": [
    "# comparing path\n",
    "best_model_dt_pred = pd.DataFrame(best_model_dt_pred, columns = ['decision_tree_model_tuned'], index = ytest.index)\n",
    "\n",
    "ytest.cumsum().plot(title = 'ytest Cumsum Plot')\n",
    "best_model_dt_pred.cumsum().plot(title = 'decision_tree_model_tuned Cumsum Plot')"
   ]
  },
  {
   "cell_type": "code",
   "execution_count": 297,
   "id": "282f716d",
   "metadata": {},
   "outputs": [
    {
     "data": {
      "text/plain": [
       "<AxesSubplot:>"
      ]
     },
     "execution_count": 297,
     "metadata": {},
     "output_type": "execute_result"
    },
    {
     "data": {
      "image/png": "[encoded data removed]",
      "text/plain": [
       "<Figure size 432x288 with 1 Axes>"
      ]
     },
     "metadata": {
      "needs_background": "light"
     },
     "output_type": "display_data"
    }
   ],
   "source": [
    "# comparing shifted correlation\n",
    "correlation = []\n",
    "for day in range(30):\n",
    "    best_model_dt_pred_shift = best_model_dt_pred.shift(-day)\n",
    "    corr = pd.concat([ytest,best_model_dt_pred_shift], axis = 1).corr()\n",
    "    corr = corr.iloc[0, 1]\n",
    "    correlation.append(corr)\n",
    "pd.DataFrame(correlation).plot()"
   ]
  },
  {
   "cell_type": "markdown",
   "id": "c70fdd58",
   "metadata": {},
   "source": [
    "The hyperparameter tuning gives us max_depth=2, min_samples_leaf=20. After feature selection, MAE is increased from 1.09 to 1.12, which is expected because the total number of features are reduced significantly. However, after hyperparamter tuning, MAE is decreased from 1.12 to 0.79, or ~30%, which indicates very good improvement. \n",
    "\n",
    "By comparing the time series cumsum charts, the predicted value is much closer than the target value, with a trough around 2013, and improvements afterwards.\n",
    "\n",
    "By comparing correlation by shifting predicted value ahead to understand how many days is predicted value ahead of the target value, we can see the correlation is largest when predicted value is shifted ahead by 3 days."
   ]
  },
  {
   "cell_type": "code",
   "execution_count": 324,
   "id": "5be0ca2a",
   "metadata": {},
   "outputs": [
    {
     "data": {
      "text/plain": [
       "<AxesSubplot:ylabel='Frequency'>"
      ]
     },
     "execution_count": 324,
     "metadata": {},
     "output_type": "execute_result"
    },
    {
     "data": {
      "image/png": "[encoded data removed]",
      "text/plain": [
       "<Figure size 432x288 with 1 Axes>"
      ]
     },
     "metadata": {
      "needs_background": "light"
     },
     "output_type": "display_data"
    }
   ],
   "source": [
    "#residual analysis\n",
    "residual = ytest.values - best_model_dt_pred.values\n",
    "residual = pd.DataFrame(residual, index = ytest.index)\n",
    "residual.plot.hist(bins = 50)"
   ]
  },
  {
   "cell_type": "markdown",
   "id": "85d25962",
   "metadata": {},
   "source": [
    "The residual analysis shows the residuals are following a relativel normal distribution."
   ]
  },
  {
   "cell_type": "markdown",
   "id": "6baa71a8",
   "metadata": {},
   "source": [
    "I further explored random forest model, and applied cross validation and hyperparameter tuning. Although it gives similiar MAE, the path is not following similiar trend as target value. Therefore, it's predicitve power is not as good as decision tree."
   ]
  },
  {
   "cell_type": "code",
   "execution_count": 327,
   "id": "ea1bef9d",
   "metadata": {},
   "outputs": [
    {
     "name": "stderr",
     "output_type": "stream",
     "text": [
      "C:\\Users\\sarahwang\\AppData\\Roaming\\Python\\Python37\\site-packages\\ipykernel_launcher.py:4: DataConversionWarning: A column-vector y was passed when a 1d array was expected. Please change the shape of y to (n_samples,), for example using ravel().\n",
      "  after removing the cwd from sys.path.\n",
      "[Parallel(n_jobs=-1)]: Using backend ThreadingBackend with 8 concurrent workers.\n",
      "[Parallel(n_jobs=-1)]: Done  34 tasks      | elapsed:   10.5s\n",
      "[Parallel(n_jobs=-1)]: Done 184 tasks      | elapsed:   48.2s\n",
      "[Parallel(n_jobs=-1)]: Done 200 out of 200 | elapsed:   51.8s finished\n"
     ]
    },
    {
     "data": {
      "text/plain": [
       "RandomForestRegressor(n_estimators=200, n_jobs=-1, verbose=1)"
      ]
     },
     "execution_count": 327,
     "metadata": {},
     "output_type": "execute_result"
    },
    {
     "name": "stderr",
     "output_type": "stream",
     "text": [
      "[Parallel(n_jobs=8)]: Using backend ThreadingBackend with 8 concurrent workers.\n",
      "[Parallel(n_jobs=8)]: Done  34 tasks      | elapsed:    0.0s\n",
      "[Parallel(n_jobs=8)]: Done 184 tasks      | elapsed:    0.0s\n",
      "[Parallel(n_jobs=8)]: Done 200 out of 200 | elapsed:    0.0s finished\n"
     ]
    },
    {
     "name": "stdout",
     "output_type": "stream",
     "text": [
      "***Random Forest Regression***\n",
      "R squared:  -0.00696132731275978\n",
      "Adjusted R squared:  -0.0789128333729785\n",
      "MSE:  0.9946094391781061\n",
      "MAE:  0.7915737675942283\n"
     ]
    }
   ],
   "source": [
    "#random forest model\n",
    "rf_model = RandomForestRegressor(n_estimators = 200,n_jobs=-1, verbose=1)\n",
    "\n",
    "rf_model.fit(xtrain[dt_variables], ytrain)\n",
    "rf_model_pred = rf_model.predict(xtest[dt_variables])\n",
    "model_evaluation(ytrue = ytest, ypred = rf_model_pred, model_name='Random Forest Regression', \n",
    "                 num_observations =len(xtest.index),num_features=len(dt_variables) )"
   ]
  },
  {
   "cell_type": "code",
   "execution_count": 328,
   "id": "1ef5e1b2",
   "metadata": {},
   "outputs": [
    {
     "data": {
      "text/plain": [
       "<AxesSubplot:title={'center':'ytest Cumsum Plot'}>"
      ]
     },
     "execution_count": 328,
     "metadata": {},
     "output_type": "execute_result"
    },
    {
     "data": {
      "text/plain": [
       "<AxesSubplot:title={'center':'random_forest_model Cumsum Plot'}>"
      ]
     },
     "execution_count": 328,
     "metadata": {},
     "output_type": "execute_result"
    },
    {
     "data": {
      "image/png": "[encoded data removed]",
      "text/plain": [
       "<Figure size 432x288 with 1 Axes>"
      ]
     },
     "metadata": {
      "needs_background": "light"
     },
     "output_type": "display_data"
    },
    {
     "data": {
      "image/png": "[encoded data removed]",
      "text/plain": [
       "<Figure size 432x288 with 1 Axes>"
      ]
     },
     "metadata": {
      "needs_background": "light"
     },
     "output_type": "display_data"
    }
   ],
   "source": [
    "# comparing path\n",
    "rf_model_pred = pd.DataFrame(rf_model_pred, columns = ['random_forest_model'], index = ytest.index)\n",
    "\n",
    "ytest.cumsum().plot(title = 'ytest Cumsum Plot')\n",
    "rf_model_pred.cumsum().plot(title = 'random_forest_model Cumsum Plot')"
   ]
  },
  {
   "cell_type": "code",
   "execution_count": 333,
   "id": "baae9003",
   "metadata": {},
   "outputs": [
    {
     "name": "stdout",
     "output_type": "stream",
     "text": [
      "Fitting 3 folds for each of 18 candidates, totalling 54 fits\n"
     ]
    },
    {
     "name": "stderr",
     "output_type": "stream",
     "text": [
      "[Parallel(n_jobs=-1)]: Using backend LokyBackend with 8 concurrent workers.\n",
      "[Parallel(n_jobs=-1)]: Done  34 tasks      | elapsed:   21.4s\n",
      "[Parallel(n_jobs=-1)]: Done  54 out of  54 | elapsed:   44.5s finished\n",
      "C:\\Users\\sarahwang\\AppData\\Local\\conda\\conda\\envs\\mlenv\\lib\\site-packages\\sklearn\\model_selection\\_search.py:765: DataConversionWarning: A column-vector y was passed when a 1d array was expected. Please change the shape of y to (n_samples,), for example using ravel().\n",
      "  self.best_estimator_.fit(X, y, **fit_params)\n"
     ]
    },
    {
     "data": {
      "text/plain": [
       "GridSearchCV(cv=TimeSeriesSplit(max_train_size=None, n_splits=3),\n",
       "             estimator=RandomForestRegressor(), n_jobs=-1,\n",
       "             param_grid={'max_depth': [2, 3, 5],\n",
       "                         'max_features': ['sqrt', 'log2'],\n",
       "                         'n_estimators': [300, 500, 800]},\n",
       "             scoring='neg_mean_absolute_error', verbose=1)"
      ]
     },
     "execution_count": 333,
     "metadata": {},
     "output_type": "execute_result"
    }
   ],
   "source": [
    "# hyperparameter tuning random forest model\n",
    "model = RandomForestRegressor()\n",
    "param_search = { \n",
    "    'n_estimators': [300, 500,800],\n",
    "    'max_features': ['sqrt', 'log2'],\n",
    "    'max_depth' : [2, 3, 5]\n",
    "}\n",
    "tscv = TimeSeriesSplit(n_splits=3)\n",
    "gsearch = GridSearchCV(estimator=model, cv=tscv, param_grid=param_search, scoring = 'neg_mean_absolute_error', n_jobs = -1, verbose=1)\n",
    "gsearch.fit(xtrain[dt_variables], ytrain)\n",
    "best_score_rf = gsearch.best_score_\n",
    "best_model_rf = gsearch.best_estimator_"
   ]
  },
  {
   "cell_type": "code",
   "execution_count": 334,
   "id": "d4ce52da",
   "metadata": {},
   "outputs": [
    {
     "name": "stdout",
     "output_type": "stream",
     "text": [
      "***Random Forest Regression - Tuned***\n",
      "R squared:  -0.0011367312224994652\n",
      "Adjusted R squared:  -0.07267204606512179\n",
      "MSE:  0.9888562904785102\n",
      "MAE:  0.790852560656511\n"
     ]
    },
    {
     "data": {
      "text/plain": [
       "<AxesSubplot:title={'center':'ytest Cumsum Plot'}>"
      ]
     },
     "execution_count": 334,
     "metadata": {},
     "output_type": "execute_result"
    },
    {
     "data": {
      "text/plain": [
       "<AxesSubplot:title={'center':'random_forest_model_pred_tuned Cumsum Plot'}>"
      ]
     },
     "execution_count": 334,
     "metadata": {},
     "output_type": "execute_result"
    },
    {
     "data": {
      "image/png": "[encoded data removed]",
      "text/plain": [
       "<Figure size 432x288 with 1 Axes>"
      ]
     },
     "metadata": {
      "needs_background": "light"
     },
     "output_type": "display_data"
    },
    {
     "data": {
      "image/png": "[encoded data removed]",
      "text/plain": [
       "<Figure size 432x288 with 1 Axes>"
      ]
     },
     "metadata": {
      "needs_background": "light"
     },
     "output_type": "display_data"
    }
   ],
   "source": [
    "# parametrical and path evaluation\n",
    "best_model_rf_pred = best_model_rf.predict(xtest[dt_variables])\n",
    "model_evaluation(ytrue = ytest, ypred = best_model_rf_pred, model_name='Random Forest Regression - Tuned', \n",
    "num_observations =xtest.shape[0],num_features=len(dt_variables) )\n",
    "best_model_rf_pred = pd.DataFrame(best_model_rf_pred, columns = ['random_forest_model_pred_tuned'], index = ytest.index)\n",
    "\n",
    "ytest.cumsum().plot(title = 'ytest Cumsum Plot')\n",
    "best_model_rf_pred.cumsum().plot(title = 'random_forest_model_pred_tuned Cumsum Plot')"
   ]
  },
  {
   "cell_type": "code",
   "execution_count": null,
   "id": "6bd048c7",
   "metadata": {},
   "outputs": [],
   "source": []
  },
  {
   "cell_type": "markdown",
   "id": "32760ca8",
   "metadata": {},
   "source": []
  },
  {
   "cell_type": "markdown",
   "id": "93f438d3",
   "metadata": {},
   "source": [
    "## Feature Selection Approach 2 - PCA"
   ]
  },
  {
   "cell_type": "markdown",
   "id": "9afd4abf",
   "metadata": {},
   "source": [
    "PCA is sensitive to outliers. However, from EDA's finding, feature values are relatively centered around 0 with standard deviation of 1. Therefore, no additional standardization is applied here."
   ]
  },
  {
   "cell_type": "code",
   "execution_count": 88,
   "id": "7abf67e2",
   "metadata": {},
   "outputs": [
    {
     "data": {
      "text/plain": [
       "array([[ 0.17945755, -1.12927502, -0.59684829, ..., -0.60144892,\n",
       "        -0.44063674, -0.84106277],\n",
       "       [ 1.03235117, -0.34367945, -0.08029337, ..., -0.53606011,\n",
       "         0.5573338 , -1.03119749],\n",
       "       [-1.42084209,  1.83852814, -0.09070276, ...,  0.4935402 ,\n",
       "        -0.34092054,  0.47135213],\n",
       "       ...,\n",
       "       [ 1.83934379,  0.86269011, -2.32162809, ..., -1.18960517,\n",
       "         0.3229724 ,  0.47536908],\n",
       "       [ 1.48383014, -0.78668168,  0.67887347, ...,  0.57471618,\n",
       "        -0.7546603 ,  1.45531898],\n",
       "       [ 4.06684337,  0.82650281, -1.54947147, ..., -0.80824267,\n",
       "         0.38909102,  1.03221562]])"
      ]
     },
     "execution_count": 88,
     "metadata": {},
     "output_type": "execute_result"
    },
    {
     "data": {
      "text/plain": [
       "<AxesSubplot:>"
      ]
     },
     "execution_count": 88,
     "metadata": {},
     "output_type": "execute_result"
    },
    {
     "data": {
      "image/png": "[encoded data removed]",
      "text/plain": [
       "<Figure size 432x288 with 1 Axes>"
      ]
     },
     "metadata": {
      "needs_background": "light"
     },
     "output_type": "display_data"
    }
   ],
   "source": [
    "pca = PCA()\n",
    "pca.fit_transform(xtrain)\n",
    "explained_variance = pca.explained_variance_ratio_.cumsum()\n",
    "pd.DataFrame(explained_variance).plot()"
   ]
  },
  {
   "cell_type": "markdown",
   "id": "14e39610",
   "metadata": {},
   "source": [
    "From explained variance plot, we can see 600 PC components can explain around 80% of variance, and 400 PC components can explain around 60% of variance. I explored both 400 and 600 PC components. PC components are fed into both decition tree and random forests models. However, the predictive power is not as good as features selected from backward elimination, even if with larger number of features feeding into the model. In addition, PCA feature selection uses pure statistical method and therefore not as easy to explain as backward elimination. Therefore, I do not recommend using PCA approach here."
   ]
  },
  {
   "cell_type": "code",
   "execution_count": 121,
   "id": "24cdfe43",
   "metadata": {},
   "outputs": [
    {
     "data": {
      "text/plain": [
       "<AxesSubplot:>"
      ]
     },
     "execution_count": 121,
     "metadata": {},
     "output_type": "execute_result"
    },
    {
     "data": {
      "text/html": [
       "<div>\n",
       "<style scoped>\n",
       "    .dataframe tbody tr th:only-of-type {\n",
       "        vertical-align: middle;\n",
       "    }\n",
       "\n",
       "    .dataframe tbody tr th {\n",
       "        vertical-align: top;\n",
       "    }\n",
       "\n",
       "    .dataframe thead th {\n",
       "        text-align: right;\n",
       "    }\n",
       "</style>\n",
       "<table border=\"1\" class=\"dataframe\">\n",
       "  <thead>\n",
       "    <tr style=\"text-align: right;\">\n",
       "      <th></th>\n",
       "      <th>PC1</th>\n",
       "      <th>PC2</th>\n",
       "      <th>PC3</th>\n",
       "      <th>PC4</th>\n",
       "      <th>PC5</th>\n",
       "      <th>PC6</th>\n",
       "      <th>PC7</th>\n",
       "      <th>PC8</th>\n",
       "      <th>PC9</th>\n",
       "      <th>PC10</th>\n",
       "      <th>...</th>\n",
       "      <th>PC391</th>\n",
       "      <th>PC392</th>\n",
       "      <th>PC393</th>\n",
       "      <th>PC394</th>\n",
       "      <th>PC395</th>\n",
       "      <th>PC396</th>\n",
       "      <th>PC397</th>\n",
       "      <th>PC398</th>\n",
       "      <th>PC399</th>\n",
       "      <th>PC400</th>\n",
       "    </tr>\n",
       "  </thead>\n",
       "  <tbody>\n",
       "    <tr>\n",
       "      <th>1990-01-01</th>\n",
       "      <td>0.252953</td>\n",
       "      <td>-1.098897</td>\n",
       "      <td>-0.574897</td>\n",
       "      <td>0.036611</td>\n",
       "      <td>-2.138887</td>\n",
       "      <td>1.528684</td>\n",
       "      <td>2.492806</td>\n",
       "      <td>-2.830132</td>\n",
       "      <td>-1.558161</td>\n",
       "      <td>0.834826</td>\n",
       "      <td>...</td>\n",
       "      <td>-0.893832</td>\n",
       "      <td>-0.949652</td>\n",
       "      <td>-0.816841</td>\n",
       "      <td>0.441654</td>\n",
       "      <td>-1.318831</td>\n",
       "      <td>0.073631</td>\n",
       "      <td>-0.621655</td>\n",
       "      <td>2.321012</td>\n",
       "      <td>0.883248</td>\n",
       "      <td>-0.247504</td>\n",
       "    </tr>\n",
       "    <tr>\n",
       "      <th>1990-01-02</th>\n",
       "      <td>1.030264</td>\n",
       "      <td>-0.337603</td>\n",
       "      <td>-0.061139</td>\n",
       "      <td>-1.543160</td>\n",
       "      <td>-0.795320</td>\n",
       "      <td>0.307204</td>\n",
       "      <td>-1.304508</td>\n",
       "      <td>-0.337957</td>\n",
       "      <td>2.194081</td>\n",
       "      <td>0.671790</td>\n",
       "      <td>...</td>\n",
       "      <td>-0.249587</td>\n",
       "      <td>-0.588141</td>\n",
       "      <td>-0.281783</td>\n",
       "      <td>-0.410675</td>\n",
       "      <td>-0.021433</td>\n",
       "      <td>1.403078</td>\n",
       "      <td>1.685476</td>\n",
       "      <td>0.669435</td>\n",
       "      <td>-0.468406</td>\n",
       "      <td>1.542834</td>\n",
       "    </tr>\n",
       "    <tr>\n",
       "      <th>1990-01-03</th>\n",
       "      <td>-1.430764</td>\n",
       "      <td>1.799173</td>\n",
       "      <td>-0.077983</td>\n",
       "      <td>0.828443</td>\n",
       "      <td>0.318469</td>\n",
       "      <td>0.687379</td>\n",
       "      <td>-1.786107</td>\n",
       "      <td>1.659283</td>\n",
       "      <td>1.176488</td>\n",
       "      <td>0.605406</td>\n",
       "      <td>...</td>\n",
       "      <td>-0.448824</td>\n",
       "      <td>-0.036060</td>\n",
       "      <td>-0.257115</td>\n",
       "      <td>0.195750</td>\n",
       "      <td>0.160328</td>\n",
       "      <td>0.303319</td>\n",
       "      <td>-1.880752</td>\n",
       "      <td>0.272730</td>\n",
       "      <td>0.558066</td>\n",
       "      <td>-0.822875</td>\n",
       "    </tr>\n",
       "    <tr>\n",
       "      <th>1990-01-04</th>\n",
       "      <td>-0.351997</td>\n",
       "      <td>-2.516385</td>\n",
       "      <td>-1.633010</td>\n",
       "      <td>0.889283</td>\n",
       "      <td>0.394200</td>\n",
       "      <td>-1.803610</td>\n",
       "      <td>0.211354</td>\n",
       "      <td>-0.035988</td>\n",
       "      <td>-1.440795</td>\n",
       "      <td>-0.027177</td>\n",
       "      <td>...</td>\n",
       "      <td>0.257619</td>\n",
       "      <td>-0.473118</td>\n",
       "      <td>0.190201</td>\n",
       "      <td>0.231085</td>\n",
       "      <td>-1.418744</td>\n",
       "      <td>0.680000</td>\n",
       "      <td>-0.292671</td>\n",
       "      <td>0.212459</td>\n",
       "      <td>-0.106537</td>\n",
       "      <td>-1.075538</td>\n",
       "    </tr>\n",
       "    <tr>\n",
       "      <th>1990-01-05</th>\n",
       "      <td>2.468003</td>\n",
       "      <td>1.763358</td>\n",
       "      <td>0.863900</td>\n",
       "      <td>0.290713</td>\n",
       "      <td>-0.965205</td>\n",
       "      <td>0.608781</td>\n",
       "      <td>-1.028250</td>\n",
       "      <td>0.299138</td>\n",
       "      <td>-0.694749</td>\n",
       "      <td>1.266748</td>\n",
       "      <td>...</td>\n",
       "      <td>0.528094</td>\n",
       "      <td>-2.504844</td>\n",
       "      <td>0.079009</td>\n",
       "      <td>-1.028226</td>\n",
       "      <td>-0.715864</td>\n",
       "      <td>-1.299968</td>\n",
       "      <td>-0.078931</td>\n",
       "      <td>1.462993</td>\n",
       "      <td>-0.253310</td>\n",
       "      <td>-0.892822</td>\n",
       "    </tr>\n",
       "  </tbody>\n",
       "</table>\n",
       "<p>5 rows × 400 columns</p>\n",
       "</div>"
      ],
      "text/plain": [
       "                 PC1       PC2       PC3       PC4       PC5       PC6  \\\n",
       "1990-01-01  0.252953 -1.098897 -0.574897  0.036611 -2.138887  1.528684   \n",
       "1990-01-02  1.030264 -0.337603 -0.061139 -1.543160 -0.795320  0.307204   \n",
       "1990-01-03 -1.430764  1.799173 -0.077983  0.828443  0.318469  0.687379   \n",
       "1990-01-04 -0.351997 -2.516385 -1.633010  0.889283  0.394200 -1.803610   \n",
       "1990-01-05  2.468003  1.763358  0.863900  0.290713 -0.965205  0.608781   \n",
       "\n",
       "                 PC7       PC8       PC9      PC10  ...     PC391     PC392  \\\n",
       "1990-01-01  2.492806 -2.830132 -1.558161  0.834826  ... -0.893832 -0.949652   \n",
       "1990-01-02 -1.304508 -0.337957  2.194081  0.671790  ... -0.249587 -0.588141   \n",
       "1990-01-03 -1.786107  1.659283  1.176488  0.605406  ... -0.448824 -0.036060   \n",
       "1990-01-04  0.211354 -0.035988 -1.440795 -0.027177  ...  0.257619 -0.473118   \n",
       "1990-01-05 -1.028250  0.299138 -0.694749  1.266748  ...  0.528094 -2.504844   \n",
       "\n",
       "               PC393     PC394     PC395     PC396     PC397     PC398  \\\n",
       "1990-01-01 -0.816841  0.441654 -1.318831  0.073631 -0.621655  2.321012   \n",
       "1990-01-02 -0.281783 -0.410675 -0.021433  1.403078  1.685476  0.669435   \n",
       "1990-01-03 -0.257115  0.195750  0.160328  0.303319 -1.880752  0.272730   \n",
       "1990-01-04  0.190201  0.231085 -1.418744  0.680000 -0.292671  0.212459   \n",
       "1990-01-05  0.079009 -1.028226 -0.715864 -1.299968 -0.078931  1.462993   \n",
       "\n",
       "               PC399     PC400  \n",
       "1990-01-01  0.883248 -0.247504  \n",
       "1990-01-02 -0.468406  1.542834  \n",
       "1990-01-03  0.558066 -0.822875  \n",
       "1990-01-04 -0.106537 -1.075538  \n",
       "1990-01-05 -0.253310 -0.892822  \n",
       "\n",
       "[5 rows x 400 columns]"
      ]
     },
     "execution_count": 121,
     "metadata": {},
     "output_type": "execute_result"
    },
    {
     "data": {
      "text/html": [
       "<div>\n",
       "<style scoped>\n",
       "    .dataframe tbody tr th:only-of-type {\n",
       "        vertical-align: middle;\n",
       "    }\n",
       "\n",
       "    .dataframe tbody tr th {\n",
       "        vertical-align: top;\n",
       "    }\n",
       "\n",
       "    .dataframe thead th {\n",
       "        text-align: right;\n",
       "    }\n",
       "</style>\n",
       "<table border=\"1\" class=\"dataframe\">\n",
       "  <thead>\n",
       "    <tr style=\"text-align: right;\">\n",
       "      <th></th>\n",
       "      <th>0</th>\n",
       "      <th>1</th>\n",
       "      <th>2</th>\n",
       "      <th>3</th>\n",
       "      <th>4</th>\n",
       "      <th>5</th>\n",
       "      <th>6</th>\n",
       "      <th>7</th>\n",
       "      <th>8</th>\n",
       "      <th>9</th>\n",
       "      <th>...</th>\n",
       "      <th>990</th>\n",
       "      <th>991</th>\n",
       "      <th>992</th>\n",
       "      <th>993</th>\n",
       "      <th>994</th>\n",
       "      <th>995</th>\n",
       "      <th>996</th>\n",
       "      <th>997</th>\n",
       "      <th>998</th>\n",
       "      <th>999</th>\n",
       "    </tr>\n",
       "  </thead>\n",
       "  <tbody>\n",
       "    <tr>\n",
       "      <th>1990-01-01</th>\n",
       "      <td>0.943503</td>\n",
       "      <td>2.285943</td>\n",
       "      <td>-0.676534</td>\n",
       "      <td>-1.073370</td>\n",
       "      <td>0.222805</td>\n",
       "      <td>0.549741</td>\n",
       "      <td>-0.593814</td>\n",
       "      <td>2.178840</td>\n",
       "      <td>0.352440</td>\n",
       "      <td>0.201713</td>\n",
       "      <td>...</td>\n",
       "      <td>0.096125</td>\n",
       "      <td>0.953935</td>\n",
       "      <td>0.301930</td>\n",
       "      <td>-0.362019</td>\n",
       "      <td>-1.161094</td>\n",
       "      <td>0.653639</td>\n",
       "      <td>1.052906</td>\n",
       "      <td>0.412227</td>\n",
       "      <td>-0.554256</td>\n",
       "      <td>1.024348</td>\n",
       "    </tr>\n",
       "    <tr>\n",
       "      <th>1990-01-02</th>\n",
       "      <td>0.757759</td>\n",
       "      <td>0.420328</td>\n",
       "      <td>-0.171919</td>\n",
       "      <td>-0.256779</td>\n",
       "      <td>-0.026867</td>\n",
       "      <td>0.469453</td>\n",
       "      <td>-2.414748</td>\n",
       "      <td>-1.230617</td>\n",
       "      <td>-1.632244</td>\n",
       "      <td>-1.584294</td>\n",
       "      <td>...</td>\n",
       "      <td>1.929657</td>\n",
       "      <td>-0.209801</td>\n",
       "      <td>-0.152551</td>\n",
       "      <td>-0.696473</td>\n",
       "      <td>1.722749</td>\n",
       "      <td>0.661907</td>\n",
       "      <td>-1.248569</td>\n",
       "      <td>1.736036</td>\n",
       "      <td>0.291525</td>\n",
       "      <td>-0.461472</td>\n",
       "    </tr>\n",
       "    <tr>\n",
       "      <th>1990-01-03</th>\n",
       "      <td>1.321828</td>\n",
       "      <td>0.338798</td>\n",
       "      <td>-0.056767</td>\n",
       "      <td>0.831892</td>\n",
       "      <td>-0.237888</td>\n",
       "      <td>-0.280212</td>\n",
       "      <td>-0.863612</td>\n",
       "      <td>-0.339115</td>\n",
       "      <td>-0.197328</td>\n",
       "      <td>0.885977</td>\n",
       "      <td>...</td>\n",
       "      <td>-0.920220</td>\n",
       "      <td>-0.984264</td>\n",
       "      <td>0.561081</td>\n",
       "      <td>2.038433</td>\n",
       "      <td>0.073335</td>\n",
       "      <td>-0.187716</td>\n",
       "      <td>-0.597649</td>\n",
       "      <td>-0.091542</td>\n",
       "      <td>1.148625</td>\n",
       "      <td>0.413747</td>\n",
       "    </tr>\n",
       "    <tr>\n",
       "      <th>1990-01-04</th>\n",
       "      <td>0.791808</td>\n",
       "      <td>-1.413861</td>\n",
       "      <td>0.796525</td>\n",
       "      <td>-1.579936</td>\n",
       "      <td>1.093092</td>\n",
       "      <td>0.177056</td>\n",
       "      <td>-0.221590</td>\n",
       "      <td>0.454206</td>\n",
       "      <td>-0.883866</td>\n",
       "      <td>0.225825</td>\n",
       "      <td>...</td>\n",
       "      <td>-1.637996</td>\n",
       "      <td>-0.037544</td>\n",
       "      <td>0.299472</td>\n",
       "      <td>-1.459668</td>\n",
       "      <td>-1.006607</td>\n",
       "      <td>-1.116544</td>\n",
       "      <td>0.165441</td>\n",
       "      <td>0.946803</td>\n",
       "      <td>-0.738654</td>\n",
       "      <td>-0.376507</td>\n",
       "    </tr>\n",
       "    <tr>\n",
       "      <th>1990-01-05</th>\n",
       "      <td>0.703500</td>\n",
       "      <td>-1.096535</td>\n",
       "      <td>0.303689</td>\n",
       "      <td>0.841819</td>\n",
       "      <td>-1.199948</td>\n",
       "      <td>-0.336136</td>\n",
       "      <td>1.417628</td>\n",
       "      <td>0.440125</td>\n",
       "      <td>-1.757652</td>\n",
       "      <td>2.210187</td>\n",
       "      <td>...</td>\n",
       "      <td>-1.900305</td>\n",
       "      <td>-0.473095</td>\n",
       "      <td>-0.084830</td>\n",
       "      <td>-0.108897</td>\n",
       "      <td>-0.971338</td>\n",
       "      <td>-1.226582</td>\n",
       "      <td>1.515971</td>\n",
       "      <td>0.778013</td>\n",
       "      <td>1.755896</td>\n",
       "      <td>2.025973</td>\n",
       "    </tr>\n",
       "  </tbody>\n",
       "</table>\n",
       "<p>5 rows × 1000 columns</p>\n",
       "</div>"
      ],
      "text/plain": [
       "                   0         1         2         3         4         5  \\\n",
       "1990-01-01  0.943503  2.285943 -0.676534 -1.073370  0.222805  0.549741   \n",
       "1990-01-02  0.757759  0.420328 -0.171919 -0.256779 -0.026867  0.469453   \n",
       "1990-01-03  1.321828  0.338798 -0.056767  0.831892 -0.237888 -0.280212   \n",
       "1990-01-04  0.791808 -1.413861  0.796525 -1.579936  1.093092  0.177056   \n",
       "1990-01-05  0.703500 -1.096535  0.303689  0.841819 -1.199948 -0.336136   \n",
       "\n",
       "                   6         7         8         9  ...       990       991  \\\n",
       "1990-01-01 -0.593814  2.178840  0.352440  0.201713  ...  0.096125  0.953935   \n",
       "1990-01-02 -2.414748 -1.230617 -1.632244 -1.584294  ...  1.929657 -0.209801   \n",
       "1990-01-03 -0.863612 -0.339115 -0.197328  0.885977  ... -0.920220 -0.984264   \n",
       "1990-01-04 -0.221590  0.454206 -0.883866  0.225825  ... -1.637996 -0.037544   \n",
       "1990-01-05  1.417628  0.440125 -1.757652  2.210187  ... -1.900305 -0.473095   \n",
       "\n",
       "                 992       993       994       995       996       997  \\\n",
       "1990-01-01  0.301930 -0.362019 -1.161094  0.653639  1.052906  0.412227   \n",
       "1990-01-02 -0.152551 -0.696473  1.722749  0.661907 -1.248569  1.736036   \n",
       "1990-01-03  0.561081  2.038433  0.073335 -0.187716 -0.597649 -0.091542   \n",
       "1990-01-04  0.299472 -1.459668 -1.006607 -1.116544  0.165441  0.946803   \n",
       "1990-01-05 -0.084830 -0.108897 -0.971338 -1.226582  1.515971  0.778013   \n",
       "\n",
       "                 998       999  \n",
       "1990-01-01 -0.554256  1.024348  \n",
       "1990-01-02  0.291525 -0.461472  \n",
       "1990-01-03  1.148625  0.413747  \n",
       "1990-01-04 -0.738654 -0.376507  \n",
       "1990-01-05  1.755896  2.025973  \n",
       "\n",
       "[5 rows x 1000 columns]"
      ]
     },
     "execution_count": 121,
     "metadata": {},
     "output_type": "execute_result"
    },
    {
     "data": {
      "image/png": "[encoded data removed]",
      "text/plain": [
       "<Figure size 432x288 with 1 Axes>"
      ]
     },
     "metadata": {
      "needs_background": "light"
     },
     "output_type": "display_data"
    }
   ],
   "source": [
    "# apply PCA transformation\n",
    "n_components = 400 #600\n",
    "pca = PCA(n_components=n_components)\n",
    "#scale()\n",
    "xtrain_pca = pca.fit_transform(xtrain)\n",
    "explained_variance = pca.explained_variance_ratio_.cumsum()\n",
    "pd.DataFrame(explained_variance).plot()\n",
    "xtrain_pca= pd.DataFrame(xtrain_pca, index = xtrain.index, columns = [f'PC{i}' for i in range(1, n_components+1)])\n",
    "xtrain_pca.head()\n",
    "xtrain.head()"
   ]
  },
  {
   "cell_type": "code",
   "execution_count": 122,
   "id": "b253fb69",
   "metadata": {},
   "outputs": [
    {
     "data": {
      "text/html": [
       "<div>\n",
       "<style scoped>\n",
       "    .dataframe tbody tr th:only-of-type {\n",
       "        vertical-align: middle;\n",
       "    }\n",
       "\n",
       "    .dataframe tbody tr th {\n",
       "        vertical-align: top;\n",
       "    }\n",
       "\n",
       "    .dataframe thead th {\n",
       "        text-align: right;\n",
       "    }\n",
       "</style>\n",
       "<table border=\"1\" class=\"dataframe\">\n",
       "  <thead>\n",
       "    <tr style=\"text-align: right;\">\n",
       "      <th></th>\n",
       "      <th>PC1</th>\n",
       "      <th>PC2</th>\n",
       "      <th>PC3</th>\n",
       "      <th>PC4</th>\n",
       "      <th>PC5</th>\n",
       "      <th>PC6</th>\n",
       "      <th>PC7</th>\n",
       "      <th>PC8</th>\n",
       "      <th>PC9</th>\n",
       "      <th>PC10</th>\n",
       "      <th>...</th>\n",
       "      <th>PC391</th>\n",
       "      <th>PC392</th>\n",
       "      <th>PC393</th>\n",
       "      <th>PC394</th>\n",
       "      <th>PC395</th>\n",
       "      <th>PC396</th>\n",
       "      <th>PC397</th>\n",
       "      <th>PC398</th>\n",
       "      <th>PC399</th>\n",
       "      <th>PC400</th>\n",
       "    </tr>\n",
       "  </thead>\n",
       "  <tbody>\n",
       "    <tr>\n",
       "      <th>2009-03-02</th>\n",
       "      <td>-0.072211</td>\n",
       "      <td>-0.287085</td>\n",
       "      <td>-1.872718</td>\n",
       "      <td>0.222307</td>\n",
       "      <td>-0.241807</td>\n",
       "      <td>-1.274396</td>\n",
       "      <td>-0.199777</td>\n",
       "      <td>-0.005221</td>\n",
       "      <td>1.691172</td>\n",
       "      <td>-1.080143</td>\n",
       "      <td>...</td>\n",
       "      <td>-0.985289</td>\n",
       "      <td>0.632186</td>\n",
       "      <td>-0.010197</td>\n",
       "      <td>0.365642</td>\n",
       "      <td>1.103159</td>\n",
       "      <td>-0.136308</td>\n",
       "      <td>-1.113103</td>\n",
       "      <td>-1.575481</td>\n",
       "      <td>0.357797</td>\n",
       "      <td>0.879503</td>\n",
       "    </tr>\n",
       "    <tr>\n",
       "      <th>2009-03-03</th>\n",
       "      <td>0.957456</td>\n",
       "      <td>-1.098181</td>\n",
       "      <td>-2.561117</td>\n",
       "      <td>2.909922</td>\n",
       "      <td>0.040098</td>\n",
       "      <td>0.381405</td>\n",
       "      <td>-1.552356</td>\n",
       "      <td>0.817879</td>\n",
       "      <td>0.890737</td>\n",
       "      <td>0.489488</td>\n",
       "      <td>...</td>\n",
       "      <td>-0.581577</td>\n",
       "      <td>-0.599896</td>\n",
       "      <td>0.287347</td>\n",
       "      <td>1.404269</td>\n",
       "      <td>1.145281</td>\n",
       "      <td>-0.547011</td>\n",
       "      <td>-0.435171</td>\n",
       "      <td>1.124710</td>\n",
       "      <td>1.989364</td>\n",
       "      <td>-2.008779</td>\n",
       "    </tr>\n",
       "    <tr>\n",
       "      <th>2009-03-04</th>\n",
       "      <td>-0.263617</td>\n",
       "      <td>-0.549416</td>\n",
       "      <td>-0.033679</td>\n",
       "      <td>-0.097644</td>\n",
       "      <td>-2.574332</td>\n",
       "      <td>0.136702</td>\n",
       "      <td>-1.295529</td>\n",
       "      <td>-0.416146</td>\n",
       "      <td>-1.931950</td>\n",
       "      <td>-0.622131</td>\n",
       "      <td>...</td>\n",
       "      <td>0.552243</td>\n",
       "      <td>-1.652632</td>\n",
       "      <td>0.164179</td>\n",
       "      <td>1.230871</td>\n",
       "      <td>1.463661</td>\n",
       "      <td>-0.525304</td>\n",
       "      <td>0.826533</td>\n",
       "      <td>2.289825</td>\n",
       "      <td>-0.128944</td>\n",
       "      <td>-0.275610</td>\n",
       "    </tr>\n",
       "    <tr>\n",
       "      <th>2009-03-05</th>\n",
       "      <td>-1.141023</td>\n",
       "      <td>0.942032</td>\n",
       "      <td>-0.706696</td>\n",
       "      <td>-0.968742</td>\n",
       "      <td>-0.194228</td>\n",
       "      <td>0.818174</td>\n",
       "      <td>-0.658355</td>\n",
       "      <td>0.888473</td>\n",
       "      <td>-0.979949</td>\n",
       "      <td>-1.492108</td>\n",
       "      <td>...</td>\n",
       "      <td>-0.201191</td>\n",
       "      <td>-0.314172</td>\n",
       "      <td>-0.926733</td>\n",
       "      <td>0.297268</td>\n",
       "      <td>-0.634070</td>\n",
       "      <td>1.203263</td>\n",
       "      <td>-0.452858</td>\n",
       "      <td>-0.823014</td>\n",
       "      <td>0.745264</td>\n",
       "      <td>-0.951247</td>\n",
       "    </tr>\n",
       "    <tr>\n",
       "      <th>2009-03-06</th>\n",
       "      <td>1.350606</td>\n",
       "      <td>-0.519314</td>\n",
       "      <td>-1.193027</td>\n",
       "      <td>1.237281</td>\n",
       "      <td>-1.957851</td>\n",
       "      <td>-0.631425</td>\n",
       "      <td>-0.406732</td>\n",
       "      <td>-0.416530</td>\n",
       "      <td>-0.226963</td>\n",
       "      <td>-0.002865</td>\n",
       "      <td>...</td>\n",
       "      <td>-0.431948</td>\n",
       "      <td>1.400266</td>\n",
       "      <td>0.898876</td>\n",
       "      <td>1.121074</td>\n",
       "      <td>-0.230025</td>\n",
       "      <td>0.140005</td>\n",
       "      <td>0.661312</td>\n",
       "      <td>-1.745579</td>\n",
       "      <td>-0.291252</td>\n",
       "      <td>-0.508260</td>\n",
       "    </tr>\n",
       "  </tbody>\n",
       "</table>\n",
       "<p>5 rows × 400 columns</p>\n",
       "</div>"
      ],
      "text/plain": [
       "                 PC1       PC2       PC3       PC4       PC5       PC6  \\\n",
       "2009-03-02 -0.072211 -0.287085 -1.872718  0.222307 -0.241807 -1.274396   \n",
       "2009-03-03  0.957456 -1.098181 -2.561117  2.909922  0.040098  0.381405   \n",
       "2009-03-04 -0.263617 -0.549416 -0.033679 -0.097644 -2.574332  0.136702   \n",
       "2009-03-05 -1.141023  0.942032 -0.706696 -0.968742 -0.194228  0.818174   \n",
       "2009-03-06  1.350606 -0.519314 -1.193027  1.237281 -1.957851 -0.631425   \n",
       "\n",
       "                 PC7       PC8       PC9      PC10  ...     PC391     PC392  \\\n",
       "2009-03-02 -0.199777 -0.005221  1.691172 -1.080143  ... -0.985289  0.632186   \n",
       "2009-03-03 -1.552356  0.817879  0.890737  0.489488  ... -0.581577 -0.599896   \n",
       "2009-03-04 -1.295529 -0.416146 -1.931950 -0.622131  ...  0.552243 -1.652632   \n",
       "2009-03-05 -0.658355  0.888473 -0.979949 -1.492108  ... -0.201191 -0.314172   \n",
       "2009-03-06 -0.406732 -0.416530 -0.226963 -0.002865  ... -0.431948  1.400266   \n",
       "\n",
       "               PC393     PC394     PC395     PC396     PC397     PC398  \\\n",
       "2009-03-02 -0.010197  0.365642  1.103159 -0.136308 -1.113103 -1.575481   \n",
       "2009-03-03  0.287347  1.404269  1.145281 -0.547011 -0.435171  1.124710   \n",
       "2009-03-04  0.164179  1.230871  1.463661 -0.525304  0.826533  2.289825   \n",
       "2009-03-05 -0.926733  0.297268 -0.634070  1.203263 -0.452858 -0.823014   \n",
       "2009-03-06  0.898876  1.121074 -0.230025  0.140005  0.661312 -1.745579   \n",
       "\n",
       "               PC399     PC400  \n",
       "2009-03-02  0.357797  0.879503  \n",
       "2009-03-03  1.989364 -2.008779  \n",
       "2009-03-04 -0.128944 -0.275610  \n",
       "2009-03-05  0.745264 -0.951247  \n",
       "2009-03-06 -0.291252 -0.508260  \n",
       "\n",
       "[5 rows x 400 columns]"
      ]
     },
     "execution_count": 122,
     "metadata": {},
     "output_type": "execute_result"
    }
   ],
   "source": [
    "xtest_pca =pca.transform(xtest)\n",
    "\n",
    "xtest_pca= pd.DataFrame(xtest_pca, index = xtest.index, columns = [f'PC{i}' for i in range(1, n_components+1)])\n",
    "xtest_pca.head()"
   ]
  },
  {
   "cell_type": "code",
   "execution_count": 307,
   "id": "92a135e8",
   "metadata": {},
   "outputs": [
    {
     "data": {
      "text/plain": [
       "<matplotlib.collections.PathCollection at 0x2add4c4cd48>"
      ]
     },
     "execution_count": 307,
     "metadata": {},
     "output_type": "execute_result"
    },
    {
     "data": {
      "text/plain": [
       "<matplotlib.collections.PathCollection at 0x2add3c00108>"
      ]
     },
     "execution_count": 307,
     "metadata": {},
     "output_type": "execute_result"
    },
    {
     "data": {
      "image/png": "[encoded data removed]",
      "text/plain": [
       "<Figure size 432x288 with 1 Axes>"
      ]
     },
     "metadata": {
      "needs_background": "light"
     },
     "output_type": "display_data"
    }
   ],
   "source": [
    "plt.scatter(xtest_pca['PC1'], xtest_pca['PC2'])\n",
    "plt.scatter(xtrain_pca['PC1'], xtrain_pca['PC2'])"
   ]
  },
  {
   "cell_type": "code",
   "execution_count": 305,
   "id": "1a4fc4e7",
   "metadata": {},
   "outputs": [
    {
     "data": {
      "text/plain": [
       "DecisionTreeRegressor(max_depth=2, min_samples_leaf=20)"
      ]
     },
     "execution_count": 305,
     "metadata": {},
     "output_type": "execute_result"
    },
    {
     "name": "stdout",
     "output_type": "stream",
     "text": [
      "***Decision Tree Regression - PCA***\n",
      "R squared:  -0.0026135625226502146\n",
      "Adjusted R squared:  -0.15692115198362\n",
      "MSE:  0.9903150062318983\n",
      "MAE:  0.792213733754071\n"
     ]
    }
   ],
   "source": [
    "# decision tree model\n",
    "dt_model_pca = DecisionTreeRegressor(max_depth=2, min_samples_leaf=20)\n",
    "dt_model_pca.fit(xtrain_pca, ytrain)\n",
    "dt_model_pca_pred = dt_model_pca.predict(xtest_pca)\n",
    "model_evaluation(ytrue = ytest, ypred = dt_model_pca_pred, model_name='Decision Tree Regression - PCA', \n",
    "num_observations =xtest_pca.shape[0],num_features=xtest_pca.shape[1] )"
   ]
  },
  {
   "cell_type": "code",
   "execution_count": 306,
   "id": "1a4ffd46",
   "metadata": {},
   "outputs": [
    {
     "data": {
      "text/plain": [
       "<AxesSubplot:title={'center':'ytest Cumsum Plot'}>"
      ]
     },
     "execution_count": 306,
     "metadata": {},
     "output_type": "execute_result"
    },
    {
     "data": {
      "text/plain": [
       "<AxesSubplot:title={'center':'decision_tree_model_pca_pred Cumsum Plot'}>"
      ]
     },
     "execution_count": 306,
     "metadata": {},
     "output_type": "execute_result"
    },
    {
     "data": {
      "image/png": "[encoded data removed]",
      "text/plain": [
       "<Figure size 432x288 with 1 Axes>"
      ]
     },
     "metadata": {
      "needs_background": "light"
     },
     "output_type": "display_data"
    },
    {
     "data": {
      "image/png": "[encoded data removed]",
      "text/plain": [
       "<Figure size 432x288 with 1 Axes>"
      ]
     },
     "metadata": {
      "needs_background": "light"
     },
     "output_type": "display_data"
    }
   ],
   "source": [
    "# comparing path\n",
    "dt_model_pca_pred = pd.DataFrame(dt_model_pca_pred, columns = ['decision_tree_model_pca_pred'], index = ytest.index)\n",
    "\n",
    "ytest.cumsum().plot(title = 'ytest Cumsum Plot')\n",
    "dt_model_pca_pred.cumsum().plot(title = 'decision_tree_model_pca_pred Cumsum Plot')"
   ]
  },
  {
   "cell_type": "code",
   "execution_count": 123,
   "id": "579b8bc5",
   "metadata": {},
   "outputs": [
    {
     "name": "stderr",
     "output_type": "stream",
     "text": [
      "C:\\Users\\sarahwang\\AppData\\Roaming\\Python\\Python37\\site-packages\\ipykernel_launcher.py:2: DataConversionWarning: A column-vector y was passed when a 1d array was expected. Please change the shape of y to (n_samples,), for example using ravel().\n",
      "  \n",
      "[Parallel(n_jobs=-1)]: Using backend ThreadingBackend with 8 concurrent workers.\n",
      "[Parallel(n_jobs=-1)]: Done  34 tasks      | elapsed:   20.0s\n",
      "[Parallel(n_jobs=-1)]: Done 184 tasks      | elapsed:  1.6min\n",
      "[Parallel(n_jobs=-1)]: Done 200 out of 200 | elapsed:  1.7min finished\n"
     ]
    },
    {
     "data": {
      "text/plain": [
       "RandomForestRegressor(n_estimators=200, n_jobs=-1, verbose=1)"
      ]
     },
     "execution_count": 123,
     "metadata": {},
     "output_type": "execute_result"
    },
    {
     "name": "stderr",
     "output_type": "stream",
     "text": [
      "[Parallel(n_jobs=8)]: Using backend ThreadingBackend with 8 concurrent workers.\n",
      "[Parallel(n_jobs=8)]: Done  34 tasks      | elapsed:    0.0s\n",
      "[Parallel(n_jobs=8)]: Done 184 tasks      | elapsed:    0.0s\n",
      "[Parallel(n_jobs=8)]: Done 200 out of 200 | elapsed:    0.0s finished\n"
     ]
    },
    {
     "name": "stdout",
     "output_type": "stream",
     "text": [
      "***Random Forest Regression with PCA***\n",
      "R squared:  -0.011079872952292735\n",
      "Adjusted R squared:  -0.16669047286799765\n",
      "MSE:  0.998677464689768\n",
      "MAE:  0.7958436254138199\n"
     ]
    }
   ],
   "source": [
    "# random forest model\n",
    "rf_model = RandomForestRegressor(n_estimators=200,n_jobs=-1, verbose=1)\n",
    "rf_model.fit(xtrain_pca, ytrain)\n",
    "rf_model_pca_pred = rf_model.predict(xtest_pca)\n",
    "model_evaluation(ytrue = ytest, ypred = rf_model_pca_pred, model_name='Random Forest Regression with PCA', \n",
    "                 num_observations =xtest_pca.shape[0],num_features=xtest_pca.shape[1] )"
   ]
  },
  {
   "cell_type": "code",
   "execution_count": 124,
   "id": "24ab1752",
   "metadata": {},
   "outputs": [
    {
     "data": {
      "text/html": [
       "<div>\n",
       "<style scoped>\n",
       "    .dataframe tbody tr th:only-of-type {\n",
       "        vertical-align: middle;\n",
       "    }\n",
       "\n",
       "    .dataframe tbody tr th {\n",
       "        vertical-align: top;\n",
       "    }\n",
       "\n",
       "    .dataframe thead th {\n",
       "        text-align: right;\n",
       "    }\n",
       "</style>\n",
       "<table border=\"1\" class=\"dataframe\">\n",
       "  <thead>\n",
       "    <tr style=\"text-align: right;\">\n",
       "      <th></th>\n",
       "      <th>Feature Importance</th>\n",
       "    </tr>\n",
       "  </thead>\n",
       "  <tbody>\n",
       "    <tr>\n",
       "      <th>PC365</th>\n",
       "      <td>0.001774</td>\n",
       "    </tr>\n",
       "    <tr>\n",
       "      <th>PC186</th>\n",
       "      <td>0.001880</td>\n",
       "    </tr>\n",
       "    <tr>\n",
       "      <th>PC222</th>\n",
       "      <td>0.001906</td>\n",
       "    </tr>\n",
       "    <tr>\n",
       "      <th>PC356</th>\n",
       "      <td>0.001920</td>\n",
       "    </tr>\n",
       "    <tr>\n",
       "      <th>PC374</th>\n",
       "      <td>0.001935</td>\n",
       "    </tr>\n",
       "    <tr>\n",
       "      <th>...</th>\n",
       "      <td>...</td>\n",
       "    </tr>\n",
       "    <tr>\n",
       "      <th>PC211</th>\n",
       "      <td>0.003465</td>\n",
       "    </tr>\n",
       "    <tr>\n",
       "      <th>PC133</th>\n",
       "      <td>0.003499</td>\n",
       "    </tr>\n",
       "    <tr>\n",
       "      <th>PC241</th>\n",
       "      <td>0.003555</td>\n",
       "    </tr>\n",
       "    <tr>\n",
       "      <th>PC375</th>\n",
       "      <td>0.003570</td>\n",
       "    </tr>\n",
       "    <tr>\n",
       "      <th>PC149</th>\n",
       "      <td>0.003579</td>\n",
       "    </tr>\n",
       "  </tbody>\n",
       "</table>\n",
       "<p>400 rows × 1 columns</p>\n",
       "</div>"
      ],
      "text/plain": [
       "       Feature Importance\n",
       "PC365            0.001774\n",
       "PC186            0.001880\n",
       "PC222            0.001906\n",
       "PC356            0.001920\n",
       "PC374            0.001935\n",
       "...                   ...\n",
       "PC211            0.003465\n",
       "PC133            0.003499\n",
       "PC241            0.003555\n",
       "PC375            0.003570\n",
       "PC149            0.003579\n",
       "\n",
       "[400 rows x 1 columns]"
      ]
     },
     "execution_count": 124,
     "metadata": {},
     "output_type": "execute_result"
    }
   ],
   "source": [
    "# feature importance\n",
    "rf_model_feature_importance = pd.DataFrame(rf_model.feature_importances_, index = xtest_pca.columns, columns = ['Feature Importance'])\n",
    "rf_model_feature_importance.sort_values('Feature Importance')"
   ]
  },
  {
   "cell_type": "code",
   "execution_count": 125,
   "id": "8711c846",
   "metadata": {
    "scrolled": false
   },
   "outputs": [
    {
     "data": {
      "text/plain": [
       "<AxesSubplot:title={'center':'ytest Cumsum Plot'}>"
      ]
     },
     "execution_count": 125,
     "metadata": {},
     "output_type": "execute_result"
    },
    {
     "data": {
      "text/plain": [
       "<AxesSubplot:title={'center':'random_forest_model_pca_pred Cumsum Plot'}>"
      ]
     },
     "execution_count": 125,
     "metadata": {},
     "output_type": "execute_result"
    },
    {
     "data": {
      "image/png": "[encoded data removed]",
      "text/plain": [
       "<Figure size 432x288 with 1 Axes>"
      ]
     },
     "metadata": {
      "needs_background": "light"
     },
     "output_type": "display_data"
    },
    {
     "data": {
      "image/png": "[encoded data removed]",
      "text/plain": [
       "<Figure size 432x288 with 1 Axes>"
      ]
     },
     "metadata": {
      "needs_background": "light"
     },
     "output_type": "display_data"
    }
   ],
   "source": [
    "# comparing path\n",
    "rf_model_pca_pred_df = pd.DataFrame(rf_model_pca_pred, columns = ['random_forest_model_pca_pred'], index = ytest.index)\n",
    "\n",
    "ytest.cumsum().plot(title = 'ytest Cumsum Plot')\n",
    "rf_model_pca_pred_df.cumsum().plot(title = 'random_forest_model_pca_pred Cumsum Plot')"
   ]
  },
  {
   "cell_type": "code",
   "execution_count": 116,
   "id": "eeb7c328",
   "metadata": {},
   "outputs": [
    {
     "name": "stdout",
     "output_type": "stream",
     "text": [
      "***Random Forest Regression with PCA***\n",
      "R squared:  0.8576658638749923\n",
      "Adjusted R squared:  0.8220674971909554\n",
      "MSE:  0.14125849772609048\n",
      "MAE:  0.2981964915661439\n"
     ]
    }
   ],
   "source": [
    "# parametrical evaluation\n",
    "model_evaluation(ytrue = ytrain, ypred = rf_model_pca_pred_train, model_name='Random Forest Regression with PCA', \n",
    "                 num_observations =xtest_pca.shape[0],num_features=xtest_pca.shape[1] )"
   ]
  },
  {
   "cell_type": "markdown",
   "id": "ab779cbe",
   "metadata": {},
   "source": [
    "## Feature Selection Approach 3 - F Tests"
   ]
  },
  {
   "cell_type": "markdown",
   "id": "00fa8db7",
   "metadata": {},
   "source": [
    "In this approach, I used F test to select features with low p values (<0.05), indicatiing statistical significance. This gives us in total 41 features. However, after feeding into decision tree and random forest models, the results is not as good as Feature Selection Approach 1. Although models have low MAE, from their cumulative plot, it does not follow similiar trend as target values. Even after hyperparameter tuning, no significant improvement is seen. Therefore, I do not recommend this approach."
   ]
  },
  {
   "cell_type": "code",
   "execution_count": 311,
   "id": "0e25b28f",
   "metadata": {},
   "outputs": [
    {
     "name": "stderr",
     "output_type": "stream",
     "text": [
      "C:\\Users\\sarahwang\\AppData\\Local\\conda\\conda\\envs\\mlenv\\lib\\site-packages\\sklearn\\utils\\validation.py:72: DataConversionWarning: A column-vector y was passed when a 1d array was expected. Please change the shape of y to (n_samples, ), for example using ravel().\n",
      "  return f(**kwargs)\n"
     ]
    },
    {
     "data": {
      "text/plain": [
       "Index(['776', '618', '206', '158', '732', '871', '292', '640', '442', '749',\n",
       "       '938', '10', '403', '260', '881', '211', '268', '869', '775', '178',\n",
       "       '559', '463', '552', '81', '955', '410', '184', '642', '173', '762',\n",
       "       '920', '811', '910', '612', '720', '450', '844', '25', '3', '441',\n",
       "       '120'],\n",
       "      dtype='object')"
      ]
     },
     "execution_count": 311,
     "metadata": {},
     "output_type": "execute_result"
    },
    {
     "data": {
      "text/html": [
       "<div>\n",
       "<style scoped>\n",
       "    .dataframe tbody tr th:only-of-type {\n",
       "        vertical-align: middle;\n",
       "    }\n",
       "\n",
       "    .dataframe tbody tr th {\n",
       "        vertical-align: top;\n",
       "    }\n",
       "\n",
       "    .dataframe thead th {\n",
       "        text-align: right;\n",
       "    }\n",
       "</style>\n",
       "<table border=\"1\" class=\"dataframe\">\n",
       "  <thead>\n",
       "    <tr style=\"text-align: right;\">\n",
       "      <th></th>\n",
       "      <th>776</th>\n",
       "      <th>618</th>\n",
       "      <th>206</th>\n",
       "      <th>158</th>\n",
       "      <th>732</th>\n",
       "      <th>871</th>\n",
       "      <th>292</th>\n",
       "      <th>640</th>\n",
       "      <th>442</th>\n",
       "      <th>749</th>\n",
       "      <th>...</th>\n",
       "      <th>811</th>\n",
       "      <th>910</th>\n",
       "      <th>612</th>\n",
       "      <th>720</th>\n",
       "      <th>450</th>\n",
       "      <th>844</th>\n",
       "      <th>25</th>\n",
       "      <th>3</th>\n",
       "      <th>441</th>\n",
       "      <th>120</th>\n",
       "    </tr>\n",
       "  </thead>\n",
       "  <tbody>\n",
       "    <tr>\n",
       "      <th>1990-01-01</th>\n",
       "      <td>-0.227936</td>\n",
       "      <td>-0.465178</td>\n",
       "      <td>-0.297621</td>\n",
       "      <td>1.006404</td>\n",
       "      <td>-1.093437</td>\n",
       "      <td>-0.649001</td>\n",
       "      <td>0.550444</td>\n",
       "      <td>1.774194</td>\n",
       "      <td>-1.515944</td>\n",
       "      <td>-0.561594</td>\n",
       "      <td>...</td>\n",
       "      <td>-0.781709</td>\n",
       "      <td>0.679142</td>\n",
       "      <td>0.869582</td>\n",
       "      <td>-0.308881</td>\n",
       "      <td>-0.467963</td>\n",
       "      <td>0.667437</td>\n",
       "      <td>1.510890</td>\n",
       "      <td>-1.073370</td>\n",
       "      <td>2.597097</td>\n",
       "      <td>0.126553</td>\n",
       "    </tr>\n",
       "    <tr>\n",
       "      <th>1990-01-02</th>\n",
       "      <td>-0.481188</td>\n",
       "      <td>1.041773</td>\n",
       "      <td>-1.026740</td>\n",
       "      <td>-0.688632</td>\n",
       "      <td>-0.439581</td>\n",
       "      <td>1.207707</td>\n",
       "      <td>1.087907</td>\n",
       "      <td>-0.234648</td>\n",
       "      <td>-0.197094</td>\n",
       "      <td>-0.784893</td>\n",
       "      <td>...</td>\n",
       "      <td>2.897564</td>\n",
       "      <td>1.220027</td>\n",
       "      <td>1.171265</td>\n",
       "      <td>0.981322</td>\n",
       "      <td>0.153408</td>\n",
       "      <td>-1.010582</td>\n",
       "      <td>0.373260</td>\n",
       "      <td>-0.256779</td>\n",
       "      <td>-0.363739</td>\n",
       "      <td>-1.521836</td>\n",
       "    </tr>\n",
       "    <tr>\n",
       "      <th>1990-01-03</th>\n",
       "      <td>1.138508</td>\n",
       "      <td>0.718281</td>\n",
       "      <td>-0.026192</td>\n",
       "      <td>-0.438797</td>\n",
       "      <td>-0.686851</td>\n",
       "      <td>-0.568006</td>\n",
       "      <td>-1.847071</td>\n",
       "      <td>-0.435950</td>\n",
       "      <td>-0.394541</td>\n",
       "      <td>0.662450</td>\n",
       "      <td>...</td>\n",
       "      <td>0.671237</td>\n",
       "      <td>-1.281614</td>\n",
       "      <td>-0.341883</td>\n",
       "      <td>-0.134791</td>\n",
       "      <td>0.510233</td>\n",
       "      <td>0.879878</td>\n",
       "      <td>1.391711</td>\n",
       "      <td>0.831892</td>\n",
       "      <td>-0.006696</td>\n",
       "      <td>-0.223706</td>\n",
       "    </tr>\n",
       "    <tr>\n",
       "      <th>1990-01-04</th>\n",
       "      <td>1.025163</td>\n",
       "      <td>1.072114</td>\n",
       "      <td>-0.515886</td>\n",
       "      <td>-0.443972</td>\n",
       "      <td>1.622397</td>\n",
       "      <td>0.862189</td>\n",
       "      <td>-0.126787</td>\n",
       "      <td>-0.731898</td>\n",
       "      <td>1.111505</td>\n",
       "      <td>0.222222</td>\n",
       "      <td>...</td>\n",
       "      <td>0.139765</td>\n",
       "      <td>-0.449534</td>\n",
       "      <td>-0.446463</td>\n",
       "      <td>1.737954</td>\n",
       "      <td>-0.062258</td>\n",
       "      <td>-0.943142</td>\n",
       "      <td>-1.565731</td>\n",
       "      <td>-1.579936</td>\n",
       "      <td>-0.777419</td>\n",
       "      <td>-0.616974</td>\n",
       "    </tr>\n",
       "    <tr>\n",
       "      <th>1990-01-05</th>\n",
       "      <td>-1.433555</td>\n",
       "      <td>0.829255</td>\n",
       "      <td>0.568712</td>\n",
       "      <td>0.457004</td>\n",
       "      <td>-0.597979</td>\n",
       "      <td>0.090619</td>\n",
       "      <td>-0.255352</td>\n",
       "      <td>1.856786</td>\n",
       "      <td>0.620677</td>\n",
       "      <td>-1.064848</td>\n",
       "      <td>...</td>\n",
       "      <td>-1.355073</td>\n",
       "      <td>-1.037848</td>\n",
       "      <td>-1.163756</td>\n",
       "      <td>-0.996904</td>\n",
       "      <td>1.544343</td>\n",
       "      <td>0.312428</td>\n",
       "      <td>0.326067</td>\n",
       "      <td>0.841819</td>\n",
       "      <td>0.207968</td>\n",
       "      <td>-0.813711</td>\n",
       "    </tr>\n",
       "    <tr>\n",
       "      <th>...</th>\n",
       "      <td>...</td>\n",
       "      <td>...</td>\n",
       "      <td>...</td>\n",
       "      <td>...</td>\n",
       "      <td>...</td>\n",
       "      <td>...</td>\n",
       "      <td>...</td>\n",
       "      <td>...</td>\n",
       "      <td>...</td>\n",
       "      <td>...</td>\n",
       "      <td>...</td>\n",
       "      <td>...</td>\n",
       "      <td>...</td>\n",
       "      <td>...</td>\n",
       "      <td>...</td>\n",
       "      <td>...</td>\n",
       "      <td>...</td>\n",
       "      <td>...</td>\n",
       "      <td>...</td>\n",
       "      <td>...</td>\n",
       "      <td>...</td>\n",
       "    </tr>\n",
       "    <tr>\n",
       "      <th>2009-02-25</th>\n",
       "      <td>-0.496776</td>\n",
       "      <td>-1.377735</td>\n",
       "      <td>-1.434283</td>\n",
       "      <td>0.234319</td>\n",
       "      <td>-0.772271</td>\n",
       "      <td>-0.576828</td>\n",
       "      <td>-1.358618</td>\n",
       "      <td>-1.504761</td>\n",
       "      <td>0.108626</td>\n",
       "      <td>-0.655701</td>\n",
       "      <td>...</td>\n",
       "      <td>-0.693702</td>\n",
       "      <td>-0.397487</td>\n",
       "      <td>-1.078521</td>\n",
       "      <td>0.492806</td>\n",
       "      <td>1.778749</td>\n",
       "      <td>-1.200872</td>\n",
       "      <td>0.387955</td>\n",
       "      <td>1.508573</td>\n",
       "      <td>-0.842099</td>\n",
       "      <td>-0.128645</td>\n",
       "    </tr>\n",
       "    <tr>\n",
       "      <th>2009-02-26</th>\n",
       "      <td>1.999662</td>\n",
       "      <td>1.032523</td>\n",
       "      <td>-1.040431</td>\n",
       "      <td>0.109480</td>\n",
       "      <td>0.247721</td>\n",
       "      <td>-0.860788</td>\n",
       "      <td>0.379328</td>\n",
       "      <td>0.433720</td>\n",
       "      <td>-1.512855</td>\n",
       "      <td>-1.038427</td>\n",
       "      <td>...</td>\n",
       "      <td>0.619705</td>\n",
       "      <td>0.080372</td>\n",
       "      <td>-0.334387</td>\n",
       "      <td>0.620365</td>\n",
       "      <td>0.439018</td>\n",
       "      <td>0.269475</td>\n",
       "      <td>-0.642235</td>\n",
       "      <td>-0.882363</td>\n",
       "      <td>-1.183506</td>\n",
       "      <td>1.148939</td>\n",
       "    </tr>\n",
       "    <tr>\n",
       "      <th>2009-02-27</th>\n",
       "      <td>0.083271</td>\n",
       "      <td>0.427335</td>\n",
       "      <td>0.726494</td>\n",
       "      <td>-0.367107</td>\n",
       "      <td>0.466143</td>\n",
       "      <td>-0.056467</td>\n",
       "      <td>0.420905</td>\n",
       "      <td>0.442335</td>\n",
       "      <td>0.005255</td>\n",
       "      <td>-0.983236</td>\n",
       "      <td>...</td>\n",
       "      <td>0.888475</td>\n",
       "      <td>0.941677</td>\n",
       "      <td>-0.499180</td>\n",
       "      <td>1.396125</td>\n",
       "      <td>0.698548</td>\n",
       "      <td>0.066974</td>\n",
       "      <td>-1.314761</td>\n",
       "      <td>2.068186</td>\n",
       "      <td>1.084416</td>\n",
       "      <td>0.683559</td>\n",
       "    </tr>\n",
       "    <tr>\n",
       "      <th>2009-02-28</th>\n",
       "      <td>-0.335527</td>\n",
       "      <td>0.066635</td>\n",
       "      <td>0.863913</td>\n",
       "      <td>-0.416191</td>\n",
       "      <td>0.150348</td>\n",
       "      <td>-1.873555</td>\n",
       "      <td>-0.881923</td>\n",
       "      <td>0.958165</td>\n",
       "      <td>0.020666</td>\n",
       "      <td>-0.184098</td>\n",
       "      <td>...</td>\n",
       "      <td>1.587274</td>\n",
       "      <td>0.411482</td>\n",
       "      <td>-0.654921</td>\n",
       "      <td>-1.917692</td>\n",
       "      <td>2.099153</td>\n",
       "      <td>-0.436519</td>\n",
       "      <td>-0.423449</td>\n",
       "      <td>0.290391</td>\n",
       "      <td>0.577946</td>\n",
       "      <td>-1.094103</td>\n",
       "    </tr>\n",
       "    <tr>\n",
       "      <th>2009-03-01</th>\n",
       "      <td>-0.030364</td>\n",
       "      <td>-0.252770</td>\n",
       "      <td>-1.702024</td>\n",
       "      <td>-0.788900</td>\n",
       "      <td>-0.706989</td>\n",
       "      <td>-1.514861</td>\n",
       "      <td>-0.929278</td>\n",
       "      <td>0.952309</td>\n",
       "      <td>-1.103464</td>\n",
       "      <td>-0.414833</td>\n",
       "      <td>...</td>\n",
       "      <td>-1.057100</td>\n",
       "      <td>-0.729797</td>\n",
       "      <td>-0.158569</td>\n",
       "      <td>-1.886740</td>\n",
       "      <td>-1.484760</td>\n",
       "      <td>0.729345</td>\n",
       "      <td>1.089502</td>\n",
       "      <td>-0.230718</td>\n",
       "      <td>-1.286213</td>\n",
       "      <td>1.299527</td>\n",
       "    </tr>\n",
       "  </tbody>\n",
       "</table>\n",
       "<p>7000 rows × 41 columns</p>\n",
       "</div>"
      ],
      "text/plain": [
       "                 776       618       206       158       732       871  \\\n",
       "1990-01-01 -0.227936 -0.465178 -0.297621  1.006404 -1.093437 -0.649001   \n",
       "1990-01-02 -0.481188  1.041773 -1.026740 -0.688632 -0.439581  1.207707   \n",
       "1990-01-03  1.138508  0.718281 -0.026192 -0.438797 -0.686851 -0.568006   \n",
       "1990-01-04  1.025163  1.072114 -0.515886 -0.443972  1.622397  0.862189   \n",
       "1990-01-05 -1.433555  0.829255  0.568712  0.457004 -0.597979  0.090619   \n",
       "...              ...       ...       ...       ...       ...       ...   \n",
       "2009-02-25 -0.496776 -1.377735 -1.434283  0.234319 -0.772271 -0.576828   \n",
       "2009-02-26  1.999662  1.032523 -1.040431  0.109480  0.247721 -0.860788   \n",
       "2009-02-27  0.083271  0.427335  0.726494 -0.367107  0.466143 -0.056467   \n",
       "2009-02-28 -0.335527  0.066635  0.863913 -0.416191  0.150348 -1.873555   \n",
       "2009-03-01 -0.030364 -0.252770 -1.702024 -0.788900 -0.706989 -1.514861   \n",
       "\n",
       "                 292       640       442       749  ...       811       910  \\\n",
       "1990-01-01  0.550444  1.774194 -1.515944 -0.561594  ... -0.781709  0.679142   \n",
       "1990-01-02  1.087907 -0.234648 -0.197094 -0.784893  ...  2.897564  1.220027   \n",
       "1990-01-03 -1.847071 -0.435950 -0.394541  0.662450  ...  0.671237 -1.281614   \n",
       "1990-01-04 -0.126787 -0.731898  1.111505  0.222222  ...  0.139765 -0.449534   \n",
       "1990-01-05 -0.255352  1.856786  0.620677 -1.064848  ... -1.355073 -1.037848   \n",
       "...              ...       ...       ...       ...  ...       ...       ...   \n",
       "2009-02-25 -1.358618 -1.504761  0.108626 -0.655701  ... -0.693702 -0.397487   \n",
       "2009-02-26  0.379328  0.433720 -1.512855 -1.038427  ...  0.619705  0.080372   \n",
       "2009-02-27  0.420905  0.442335  0.005255 -0.983236  ...  0.888475  0.941677   \n",
       "2009-02-28 -0.881923  0.958165  0.020666 -0.184098  ...  1.587274  0.411482   \n",
       "2009-03-01 -0.929278  0.952309 -1.103464 -0.414833  ... -1.057100 -0.729797   \n",
       "\n",
       "                 612       720       450       844        25         3  \\\n",
       "1990-01-01  0.869582 -0.308881 -0.467963  0.667437  1.510890 -1.073370   \n",
       "1990-01-02  1.171265  0.981322  0.153408 -1.010582  0.373260 -0.256779   \n",
       "1990-01-03 -0.341883 -0.134791  0.510233  0.879878  1.391711  0.831892   \n",
       "1990-01-04 -0.446463  1.737954 -0.062258 -0.943142 -1.565731 -1.579936   \n",
       "1990-01-05 -1.163756 -0.996904  1.544343  0.312428  0.326067  0.841819   \n",
       "...              ...       ...       ...       ...       ...       ...   \n",
       "2009-02-25 -1.078521  0.492806  1.778749 -1.200872  0.387955  1.508573   \n",
       "2009-02-26 -0.334387  0.620365  0.439018  0.269475 -0.642235 -0.882363   \n",
       "2009-02-27 -0.499180  1.396125  0.698548  0.066974 -1.314761  2.068186   \n",
       "2009-02-28 -0.654921 -1.917692  2.099153 -0.436519 -0.423449  0.290391   \n",
       "2009-03-01 -0.158569 -1.886740 -1.484760  0.729345  1.089502 -0.230718   \n",
       "\n",
       "                 441       120  \n",
       "1990-01-01  2.597097  0.126553  \n",
       "1990-01-02 -0.363739 -1.521836  \n",
       "1990-01-03 -0.006696 -0.223706  \n",
       "1990-01-04 -0.777419 -0.616974  \n",
       "1990-01-05  0.207968 -0.813711  \n",
       "...              ...       ...  \n",
       "2009-02-25 -0.842099 -0.128645  \n",
       "2009-02-26 -1.183506  1.148939  \n",
       "2009-02-27  1.084416  0.683559  \n",
       "2009-02-28  0.577946 -1.094103  \n",
       "2009-03-01 -1.286213  1.299527  \n",
       "\n",
       "[7000 rows x 41 columns]"
      ]
     },
     "execution_count": 311,
     "metadata": {},
     "output_type": "execute_result"
    }
   ],
   "source": [
    "# select featues based on f test\n",
    "fstats, pvalue = f_regression(xtrain, ytrain)\n",
    "ftest = pd.DataFrame({'fstats': fstats, 'pvalue': pvalue}, index = xtrain.columns).sort_values('pvalue')\n",
    "ftest_variables = ftest.loc[ftest.pvalue<0.05].index\n",
    "ftest_variables\n",
    "xtrain[ftest_variables]"
   ]
  },
  {
   "cell_type": "code",
   "execution_count": 312,
   "id": "87dea636",
   "metadata": {},
   "outputs": [
    {
     "name": "stderr",
     "output_type": "stream",
     "text": [
      "C:\\Users\\sarahwang\\AppData\\Roaming\\Python\\Python37\\site-packages\\ipykernel_launcher.py:3: DataConversionWarning: A column-vector y was passed when a 1d array was expected. Please change the shape of y to (n_samples,), for example using ravel().\n",
      "  This is separate from the ipykernel package so we can avoid doing imports until\n",
      "[Parallel(n_jobs=-1)]: Using backend ThreadingBackend with 8 concurrent workers.\n",
      "[Parallel(n_jobs=-1)]: Done  34 tasks      | elapsed:    1.7s\n",
      "[Parallel(n_jobs=-1)]: Done 184 tasks      | elapsed:    8.4s\n",
      "[Parallel(n_jobs=-1)]: Done 200 out of 200 | elapsed:    9.1s finished\n"
     ]
    },
    {
     "data": {
      "text/plain": [
       "RandomForestRegressor(n_estimators=200, n_jobs=-1, verbose=1)"
      ]
     },
     "execution_count": 312,
     "metadata": {},
     "output_type": "execute_result"
    },
    {
     "name": "stderr",
     "output_type": "stream",
     "text": [
      "[Parallel(n_jobs=8)]: Using backend ThreadingBackend with 8 concurrent workers.\n",
      "[Parallel(n_jobs=8)]: Done  34 tasks      | elapsed:    0.0s\n",
      "[Parallel(n_jobs=8)]: Done 184 tasks      | elapsed:    0.0s\n"
     ]
    },
    {
     "name": "stdout",
     "output_type": "stream",
     "text": [
      "***Random Forest Regression with F Tests***\n",
      "R squared:  -0.016738689842291432\n",
      "Adjusted R squared:  -0.030831416780605858\n",
      "MSE:  1.0042668677191706\n",
      "MAE:  0.7973099982700552\n"
     ]
    },
    {
     "name": "stderr",
     "output_type": "stream",
     "text": [
      "[Parallel(n_jobs=8)]: Done 200 out of 200 | elapsed:    0.0s finished\n"
     ]
    }
   ],
   "source": [
    "#ramdom forest model\n",
    "rf_model = RandomForestRegressor(n_estimators = 200,n_jobs=-1, verbose=1)\n",
    "\n",
    "rf_model.fit(xtrain[ftest_variables], ytrain)\n",
    "rf_model_pred = rf_model.predict(xtest[ftest_variables])\n",
    "model_evaluation(ytrue = ytest, ypred = rf_model_pred, model_name='Random Forest Regression with F Tests', \n",
    "                 num_observations =len(xtest.index),num_features=len(ftest_variables) )"
   ]
  },
  {
   "cell_type": "code",
   "execution_count": 313,
   "id": "afa82ae6",
   "metadata": {},
   "outputs": [
    {
     "data": {
      "text/plain": [
       "<AxesSubplot:title={'center':'ytest Cumsum Plot'}>"
      ]
     },
     "execution_count": 313,
     "metadata": {},
     "output_type": "execute_result"
    },
    {
     "data": {
      "text/plain": [
       "<AxesSubplot:title={'center':'random_forest_model_ftests Cumsum Plot'}>"
      ]
     },
     "execution_count": 313,
     "metadata": {},
     "output_type": "execute_result"
    },
    {
     "data": {
      "image/png": "[encoded data removed]",
      "text/plain": [
       "<Figure size 432x288 with 1 Axes>"
      ]
     },
     "metadata": {
      "needs_background": "light"
     },
     "output_type": "display_data"
    },
    {
     "data": {
      "image/png": "[encoded data removed]",
      "text/plain": [
       "<Figure size 432x288 with 1 Axes>"
      ]
     },
     "metadata": {
      "needs_background": "light"
     },
     "output_type": "display_data"
    }
   ],
   "source": [
    "rf_model_pred = pd.DataFrame(rf_model_pred, columns = ['random_forest_model_ftests'], index = ytest.index)\n",
    "\n",
    "ytest.cumsum().plot(title = 'ytest Cumsum Plot')\n",
    "rf_model_pred.cumsum().plot(title = 'random_forest_model_ftests Cumsum Plot')"
   ]
  },
  {
   "cell_type": "code",
   "execution_count": 315,
   "id": "38153edb",
   "metadata": {},
   "outputs": [
    {
     "name": "stdout",
     "output_type": "stream",
     "text": [
      "Fitting 3 folds for each of 18 candidates, totalling 54 fits\n"
     ]
    },
    {
     "name": "stderr",
     "output_type": "stream",
     "text": [
      "[Parallel(n_jobs=-1)]: Using backend LokyBackend with 8 concurrent workers.\n",
      "[Parallel(n_jobs=-1)]: Done  34 tasks      | elapsed:   16.9s\n",
      "[Parallel(n_jobs=-1)]: Done  54 out of  54 | elapsed:   30.9s finished\n",
      "C:\\Users\\sarahwang\\AppData\\Local\\conda\\conda\\envs\\mlenv\\lib\\site-packages\\sklearn\\model_selection\\_search.py:765: DataConversionWarning: A column-vector y was passed when a 1d array was expected. Please change the shape of y to (n_samples,), for example using ravel().\n",
      "  self.best_estimator_.fit(X, y, **fit_params)\n"
     ]
    },
    {
     "data": {
      "text/plain": [
       "GridSearchCV(cv=TimeSeriesSplit(max_train_size=None, n_splits=3),\n",
       "             estimator=RandomForestRegressor(), n_jobs=-1,\n",
       "             param_grid={'max_depth': [2, 3, 5],\n",
       "                         'max_features': ['sqrt', 'log2'],\n",
       "                         'n_estimators': [300, 500, 800]},\n",
       "             scoring='neg_mean_absolute_error', verbose=1)"
      ]
     },
     "execution_count": 315,
     "metadata": {},
     "output_type": "execute_result"
    }
   ],
   "source": [
    "# hyperparameter tuning random forest model\n",
    "model = RandomForestRegressor()\n",
    "param_search = { \n",
    "    'n_estimators': [300, 500,800],\n",
    "    'max_features': ['sqrt', 'log2'],\n",
    "    'max_depth' : [2, 3, 5]\n",
    "}\n",
    "tscv = TimeSeriesSplit(n_splits=3)\n",
    "gsearch = GridSearchCV(estimator=model, cv=tscv, param_grid=param_search, scoring = 'neg_mean_absolute_error', n_jobs = -1, verbose=1)\n",
    "gsearch.fit(xtrain[ftest_variables], ytrain)\n",
    "best_score_rf_ftest = gsearch.best_score_\n",
    "best_model_rf_ftest = gsearch.best_estimator_"
   ]
  },
  {
   "cell_type": "code",
   "execution_count": 316,
   "id": "ca809d2a",
   "metadata": {},
   "outputs": [
    {
     "name": "stdout",
     "output_type": "stream",
     "text": [
      "***Random Forest Regression - F Tests - Tuned***\n",
      "R squared:  -0.0013365353887859754\n",
      "Adjusted R squared:  -0.015215777427643351\n",
      "MSE:  0.9890536437475836\n",
      "MAE:  0.7907752190101807\n"
     ]
    },
    {
     "data": {
      "text/plain": [
       "<AxesSubplot:title={'center':'ytest Cumsum Plot'}>"
      ]
     },
     "execution_count": 316,
     "metadata": {},
     "output_type": "execute_result"
    },
    {
     "data": {
      "text/plain": [
       "<AxesSubplot:title={'center':'random_forest_model_ftests_pred_tuned Cumsum Plot'}>"
      ]
     },
     "execution_count": 316,
     "metadata": {},
     "output_type": "execute_result"
    },
    {
     "data": {
      "image/png": "[encoded data removed]",
      "text/plain": [
       "<Figure size 432x288 with 1 Axes>"
      ]
     },
     "metadata": {
      "needs_background": "light"
     },
     "output_type": "display_data"
    },
    {
     "data": {
      "image/png": "[encoded data removed]",
      "text/plain": [
       "<Figure size 432x288 with 1 Axes>"
      ]
     },
     "metadata": {
      "needs_background": "light"
     },
     "output_type": "display_data"
    }
   ],
   "source": [
    "best_model_rf_pred = best_model_rf_ftest.predict(xtest[ftest_variables])\n",
    "model_evaluation(ytrue = ytest, ypred = best_model_rf_pred, model_name='Random Forest Regression - F Tests - Tuned', \n",
    "num_observations =xtest.shape[0],num_features=len(ftest_variables) )\n",
    "best_model_rf_pred = pd.DataFrame(best_model_rf_pred, columns = ['random_forest_model_ftests_pred_tuned'], index = ytest.index)\n",
    "\n",
    "ytest.cumsum().plot(title = 'ytest Cumsum Plot')\n",
    "best_model_rf_pred.cumsum().plot(title = 'random_forest_model_ftests_pred_tuned Cumsum Plot')"
   ]
  },
  {
   "cell_type": "code",
   "execution_count": 314,
   "id": "3163f88f",
   "metadata": {},
   "outputs": [
    {
     "data": {
      "text/plain": [
       "DecisionTreeRegressor(max_depth=2, min_samples_leaf=20)"
      ]
     },
     "execution_count": 314,
     "metadata": {},
     "output_type": "execute_result"
    },
    {
     "name": "stdout",
     "output_type": "stream",
     "text": [
      "***Decision Tree Regression - F Tests***\n",
      "R squared:  -0.007315088363564426\n",
      "Adjusted R squared:  -0.02127719743148404\n",
      "MSE:  0.9949588608200305\n",
      "MAE:  0.7942184712381096\n"
     ]
    },
    {
     "data": {
      "text/plain": [
       "<AxesSubplot:title={'center':'ytest Cumsum Plot'}>"
      ]
     },
     "execution_count": 314,
     "metadata": {},
     "output_type": "execute_result"
    },
    {
     "data": {
      "text/plain": [
       "<AxesSubplot:title={'center':'decision_tree_model_ftests_pred Cumsum Plot'}>"
      ]
     },
     "execution_count": 314,
     "metadata": {},
     "output_type": "execute_result"
    },
    {
     "data": {
      "image/png": "[encoded data removed]",
      "text/plain": [
       "<Figure size 432x288 with 1 Axes>"
      ]
     },
     "metadata": {
      "needs_background": "light"
     },
     "output_type": "display_data"
    },
    {
     "data": {
      "image/png": "[encoded data removed]",
      "text/plain": [
       "<Figure size 432x288 with 1 Axes>"
      ]
     },
     "metadata": {
      "needs_background": "light"
     },
     "output_type": "display_data"
    }
   ],
   "source": [
    "#decision tree model\n",
    "dt_model_ftests = DecisionTreeRegressor(max_depth=2, min_samples_leaf=20)\n",
    "dt_model_ftests.fit(xtrain[ftest_variables], ytrain)\n",
    "dt_model_ftests_pred = dt_model_ftests.predict(xtest[ftest_variables])\n",
    "model_evaluation(ytrue = ytest, ypred = dt_model_ftests_pred, model_name='Decision Tree Regression - F Tests', \n",
    "num_observations =xtest.shape[0],num_features=len(ftest_variables) )\n",
    "dt_model_ftests_pred = pd.DataFrame(dt_model_ftests_pred, columns = ['decision_tree_model_ftests_pred'], index = ytest.index)\n",
    "\n",
    "ytest.cumsum().plot(title = 'ytest Cumsum Plot')\n",
    "dt_model_ftests_pred.cumsum().plot(title = 'decision_tree_model_ftests_pred Cumsum Plot')"
   ]
  },
  {
   "cell_type": "code",
   "execution_count": 319,
   "id": "3fc25a4d",
   "metadata": {},
   "outputs": [
    {
     "name": "stdout",
     "output_type": "stream",
     "text": [
      "Fitting 4 folds for each of 15 candidates, totalling 60 fits\n"
     ]
    },
    {
     "name": "stderr",
     "output_type": "stream",
     "text": [
      "[Parallel(n_jobs=-1)]: Using backend LokyBackend with 8 concurrent workers.\n",
      "[Parallel(n_jobs=-1)]: Done  45 out of  60 | elapsed:    0.5s remaining:    0.1s\n",
      "[Parallel(n_jobs=-1)]: Done  60 out of  60 | elapsed:    0.9s finished\n"
     ]
    },
    {
     "data": {
      "text/plain": [
       "GridSearchCV(cv=TimeSeriesSplit(max_train_size=None, n_splits=4),\n",
       "             estimator=DecisionTreeRegressor(), n_jobs=-1,\n",
       "             param_grid={'max_depth': [2, 3, 5, 10, 20],\n",
       "                         'min_samples_leaf': [5, 10, 20]},\n",
       "             scoring='neg_mean_absolute_error', verbose=1)"
      ]
     },
     "execution_count": 319,
     "metadata": {},
     "output_type": "execute_result"
    }
   ],
   "source": [
    "#hyper parameter tuning decision tree model\n",
    "model = DecisionTreeRegressor()\n",
    "param_search = { \n",
    "    'min_samples_leaf': [5, 10,20],\n",
    "    'max_depth' : [2, 3, 5, 10, 20]\n",
    "}\n",
    "tscv = TimeSeriesSplit(n_splits=4)\n",
    "gsearch = GridSearchCV(estimator=model, cv=tscv, param_grid=param_search, scoring = 'neg_mean_absolute_error', n_jobs = -1, verbose=1)\n",
    "gsearch.fit(xtrain[ftest_variables], ytrain)\n",
    "best_score_dt_ftest = gsearch.best_score_\n",
    "best_model_dt_ftest = gsearch.best_estimator_"
   ]
  },
  {
   "cell_type": "code",
   "execution_count": 326,
   "id": "ec405da6",
   "metadata": {
    "scrolled": false
   },
   "outputs": [
    {
     "name": "stdout",
     "output_type": "stream",
     "text": [
      "***Decision Tree Regression - F Tests - Tuned***\n",
      "R squared:  -0.005926643478817217\n",
      "Adjusted R squared:  -0.019869507705535083\n",
      "MSE:  0.9935874472903437\n",
      "MAE:  0.7934716084050436\n"
     ]
    },
    {
     "data": {
      "text/plain": [
       "<AxesSubplot:title={'center':'ytest Cumsum Plot'}>"
      ]
     },
     "execution_count": 326,
     "metadata": {},
     "output_type": "execute_result"
    },
    {
     "data": {
      "text/plain": [
       "<AxesSubplot:title={'center':'decision_tree_model_ftests_pred_tuned Cumsum Plot'}>"
      ]
     },
     "execution_count": 326,
     "metadata": {},
     "output_type": "execute_result"
    },
    {
     "data": {
      "image/png": "[encoded data removed]",
      "text/plain": [
       "<Figure size 432x288 with 1 Axes>"
      ]
     },
     "metadata": {
      "needs_background": "light"
     },
     "output_type": "display_data"
    },
    {
     "data": {
      "image/png": "[encoded data removed]",
      "text/plain": [
       "<Figure size 432x288 with 1 Axes>"
      ]
     },
     "metadata": {
      "needs_background": "light"
     },
     "output_type": "display_data"
    }
   ],
   "source": [
    "best_model_dt_ftest_pred = best_model_dt_ftest.predict(xtest[ftest_variables])\n",
    "model_evaluation(ytrue = ytest, ypred = best_model_dt_ftest_pred, model_name='Decision Tree Regression - F Tests - Tuned', \n",
    "num_observations =xtest.shape[0],num_features=len(ftest_variables) )\n",
    "best_model_dt_ftest_pred = pd.DataFrame(best_model_dt_ftest_pred, columns = ['decision_tree_model_ftests_pred_tuned'], index = ytest.index)\n",
    "\n",
    "ytest.cumsum().plot(title = 'ytest Cumsum Plot')\n",
    "best_model_dt_ftest_pred.cumsum().plot(title = 'decision_tree_model_ftests_pred_tuned Cumsum Plot')"
   ]
  },
  {
   "cell_type": "markdown",
   "id": "ecbae6ef",
   "metadata": {},
   "source": [
    "# Future Improvements"
   ]
  },
  {
   "cell_type": "markdown",
   "id": "fedefa19",
   "metadata": {},
   "source": [
    "If more time is given, I think it would be interesting to explore more complicated approaches such as neural network or LSTM. They may have better predicitive power on times series data."
   ]
  },
  {
   "cell_type": "code",
   "execution_count": null,
   "id": "2267e039",
   "metadata": {},
   "outputs": [],
   "source": []
  }
 ],
 "metadata": {
  "kernelspec": {
   "display_name": "Python 3",
   "language": "python",
   "name": "python3"
  }
 },
 "nbformat": 4,
 "nbformat_minor": 5
}
